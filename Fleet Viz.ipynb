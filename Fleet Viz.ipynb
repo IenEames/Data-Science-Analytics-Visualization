{
 "cells": [
  {
   "cell_type": "markdown",
   "metadata": {},
   "source": [
    "Airline Fleet Dataset Exploration and Visualization"
   ]
  },
  {
   "cell_type": "markdown",
   "metadata": {},
   "source": [
    "Dataset includes the following data:\n",
    "\n",
    "Parent Airline: i.e. International Airlines Group (IAG)\n",
    "\n",
    "Airline: i.e. Iberia, Aer Lingus, British Airways...etc. which are owned by IAG\n",
    "\n",
    "Aircraft Type: Manufacturer & Model\n",
    "\n",
    "Current: Quantity of airplanes in Operation\n",
    "\n",
    "Future: Quantity of airplanes on order, from planespotter.net\n",
    "\n",
    "Order: Quantity airplanes on order, from Wikipedia\n",
    "\n",
    "Unit Cost: Average unit cost ($M) of Aircraft Type, as found by Wikipedia and various google searches\n",
    "\n",
    "Total Cost: Current quantity * Unit Cost ($M)\n",
    "\n",
    "Average Age: Average age of \"Current\" airplanes by \"Aircraft Type\""
   ]
  },
  {
   "cell_type": "code",
   "execution_count": 2,
   "metadata": {
    "collapsed": true
   },
   "outputs": [],
   "source": [
    "import numpy as np\n",
    "import pandas as pd\n",
    "import matplotlib.pyplot as plt\n",
    "import seaborn as sns\n",
    "%matplotlib inline"
   ]
  },
  {
   "cell_type": "code",
   "execution_count": 3,
   "metadata": {
    "collapsed": true
   },
   "outputs": [],
   "source": [
    "fleet = pd.read_csv('Fleet Data.csv')"
   ]
  },
  {
   "cell_type": "markdown",
   "metadata": {},
   "source": [
    "Exploring the dataset:"
   ]
  },
  {
   "cell_type": "code",
   "execution_count": 4,
   "metadata": {},
   "outputs": [
    {
     "data": {
      "text/html": [
       "<div>\n",
       "<style scoped>\n",
       "    .dataframe tbody tr th:only-of-type {\n",
       "        vertical-align: middle;\n",
       "    }\n",
       "\n",
       "    .dataframe tbody tr th {\n",
       "        vertical-align: top;\n",
       "    }\n",
       "\n",
       "    .dataframe thead th {\n",
       "        text-align: right;\n",
       "    }\n",
       "</style>\n",
       "<table border=\"1\" class=\"dataframe\">\n",
       "  <thead>\n",
       "    <tr style=\"text-align: right;\">\n",
       "      <th></th>\n",
       "      <th>Parent Airline</th>\n",
       "      <th>Airline</th>\n",
       "      <th>Aircraft Type</th>\n",
       "      <th>Current</th>\n",
       "      <th>Future</th>\n",
       "      <th>Historic</th>\n",
       "      <th>Total</th>\n",
       "      <th>Orders</th>\n",
       "      <th>Unit Cost</th>\n",
       "      <th>Total Cost (Current)</th>\n",
       "      <th>Average Age</th>\n",
       "    </tr>\n",
       "  </thead>\n",
       "  <tbody>\n",
       "    <tr>\n",
       "      <th>0</th>\n",
       "      <td>Aegean Airlines</td>\n",
       "      <td>Aegean Airlines</td>\n",
       "      <td>Airbus A319</td>\n",
       "      <td>1.0</td>\n",
       "      <td>NaN</td>\n",
       "      <td>3.0</td>\n",
       "      <td>4.0</td>\n",
       "      <td>NaN</td>\n",
       "      <td>$90</td>\n",
       "      <td>$90</td>\n",
       "      <td>11.6</td>\n",
       "    </tr>\n",
       "    <tr>\n",
       "      <th>1</th>\n",
       "      <td>Aegean Airlines</td>\n",
       "      <td>Olympic Air</td>\n",
       "      <td>Airbus A319</td>\n",
       "      <td>NaN</td>\n",
       "      <td>NaN</td>\n",
       "      <td>8.0</td>\n",
       "      <td>8.0</td>\n",
       "      <td>NaN</td>\n",
       "      <td>$90</td>\n",
       "      <td>$0</td>\n",
       "      <td>NaN</td>\n",
       "    </tr>\n",
       "    <tr>\n",
       "      <th>2</th>\n",
       "      <td>Aegean Airlines</td>\n",
       "      <td>Aegean Airlines</td>\n",
       "      <td>Airbus A320</td>\n",
       "      <td>38.0</td>\n",
       "      <td>NaN</td>\n",
       "      <td>3.0</td>\n",
       "      <td>41.0</td>\n",
       "      <td>NaN</td>\n",
       "      <td>$98</td>\n",
       "      <td>$3,724</td>\n",
       "      <td>7.5</td>\n",
       "    </tr>\n",
       "    <tr>\n",
       "      <th>3</th>\n",
       "      <td>Aegean Airlines</td>\n",
       "      <td>Olympic Air</td>\n",
       "      <td>Airbus A320</td>\n",
       "      <td>NaN</td>\n",
       "      <td>NaN</td>\n",
       "      <td>9.0</td>\n",
       "      <td>9.0</td>\n",
       "      <td>NaN</td>\n",
       "      <td>$98</td>\n",
       "      <td>$0</td>\n",
       "      <td>NaN</td>\n",
       "    </tr>\n",
       "    <tr>\n",
       "      <th>4</th>\n",
       "      <td>Aegean Airlines</td>\n",
       "      <td>Aegean Airlines</td>\n",
       "      <td>Airbus A321</td>\n",
       "      <td>8.0</td>\n",
       "      <td>NaN</td>\n",
       "      <td>NaN</td>\n",
       "      <td>8.0</td>\n",
       "      <td>NaN</td>\n",
       "      <td>$115</td>\n",
       "      <td>$919</td>\n",
       "      <td>10.3</td>\n",
       "    </tr>\n",
       "  </tbody>\n",
       "</table>\n",
       "</div>"
      ],
      "text/plain": [
       "    Parent Airline          Airline Aircraft Type  Current  Future  Historic  \\\n",
       "0  Aegean Airlines  Aegean Airlines   Airbus A319      1.0     NaN       3.0   \n",
       "1  Aegean Airlines      Olympic Air   Airbus A319      NaN     NaN       8.0   \n",
       "2  Aegean Airlines  Aegean Airlines   Airbus A320     38.0     NaN       3.0   \n",
       "3  Aegean Airlines      Olympic Air   Airbus A320      NaN     NaN       9.0   \n",
       "4  Aegean Airlines  Aegean Airlines   Airbus A321      8.0     NaN       NaN   \n",
       "\n",
       "   Total  Orders Unit Cost Total Cost (Current)  Average Age  \n",
       "0    4.0     NaN       $90                  $90         11.6  \n",
       "1    8.0     NaN       $90                   $0          NaN  \n",
       "2   41.0     NaN       $98               $3,724          7.5  \n",
       "3    9.0     NaN       $98                   $0          NaN  \n",
       "4    8.0     NaN      $115                 $919         10.3  "
      ]
     },
     "execution_count": 4,
     "metadata": {},
     "output_type": "execute_result"
    }
   ],
   "source": [
    "fleet.head()"
   ]
  },
  {
   "cell_type": "code",
   "execution_count": 6,
   "metadata": {},
   "outputs": [
    {
     "data": {
      "text/html": [
       "<div>\n",
       "<style scoped>\n",
       "    .dataframe tbody tr th:only-of-type {\n",
       "        vertical-align: middle;\n",
       "    }\n",
       "\n",
       "    .dataframe tbody tr th {\n",
       "        vertical-align: top;\n",
       "    }\n",
       "\n",
       "    .dataframe thead th {\n",
       "        text-align: right;\n",
       "    }\n",
       "</style>\n",
       "<table border=\"1\" class=\"dataframe\">\n",
       "  <thead>\n",
       "    <tr style=\"text-align: right;\">\n",
       "      <th></th>\n",
       "      <th>Current</th>\n",
       "      <th>Future</th>\n",
       "      <th>Historic</th>\n",
       "      <th>Total</th>\n",
       "      <th>Orders</th>\n",
       "      <th>Average Age</th>\n",
       "    </tr>\n",
       "  </thead>\n",
       "  <tbody>\n",
       "    <tr>\n",
       "      <th>count</th>\n",
       "      <td>859.000000</td>\n",
       "      <td>188.000000</td>\n",
       "      <td>1113.000000</td>\n",
       "      <td>1484.000000</td>\n",
       "      <td>348.000000</td>\n",
       "      <td>820.000000</td>\n",
       "    </tr>\n",
       "    <tr>\n",
       "      <th>mean</th>\n",
       "      <td>24.033760</td>\n",
       "      <td>3.382979</td>\n",
       "      <td>14.513028</td>\n",
       "      <td>24.955526</td>\n",
       "      <td>26.419540</td>\n",
       "      <td>10.115000</td>\n",
       "    </tr>\n",
       "    <tr>\n",
       "      <th>std</th>\n",
       "      <td>41.091234</td>\n",
       "      <td>4.656331</td>\n",
       "      <td>23.763373</td>\n",
       "      <td>46.651526</td>\n",
       "      <td>43.024179</td>\n",
       "      <td>6.859362</td>\n",
       "    </tr>\n",
       "    <tr>\n",
       "      <th>min</th>\n",
       "      <td>1.000000</td>\n",
       "      <td>1.000000</td>\n",
       "      <td>1.000000</td>\n",
       "      <td>1.000000</td>\n",
       "      <td>1.000000</td>\n",
       "      <td>0.100000</td>\n",
       "    </tr>\n",
       "    <tr>\n",
       "      <th>25%</th>\n",
       "      <td>5.000000</td>\n",
       "      <td>1.000000</td>\n",
       "      <td>3.000000</td>\n",
       "      <td>4.000000</td>\n",
       "      <td>5.000000</td>\n",
       "      <td>5.000000</td>\n",
       "    </tr>\n",
       "    <tr>\n",
       "      <th>50%</th>\n",
       "      <td>12.000000</td>\n",
       "      <td>2.000000</td>\n",
       "      <td>7.000000</td>\n",
       "      <td>11.000000</td>\n",
       "      <td>13.500000</td>\n",
       "      <td>8.900000</td>\n",
       "    </tr>\n",
       "    <tr>\n",
       "      <th>75%</th>\n",
       "      <td>26.500000</td>\n",
       "      <td>4.000000</td>\n",
       "      <td>16.000000</td>\n",
       "      <td>27.000000</td>\n",
       "      <td>28.250000</td>\n",
       "      <td>14.500000</td>\n",
       "    </tr>\n",
       "    <tr>\n",
       "      <th>max</th>\n",
       "      <td>718.000000</td>\n",
       "      <td>38.000000</td>\n",
       "      <td>325.000000</td>\n",
       "      <td>952.000000</td>\n",
       "      <td>400.000000</td>\n",
       "      <td>39.000000</td>\n",
       "    </tr>\n",
       "  </tbody>\n",
       "</table>\n",
       "</div>"
      ],
      "text/plain": [
       "          Current      Future     Historic        Total      Orders  \\\n",
       "count  859.000000  188.000000  1113.000000  1484.000000  348.000000   \n",
       "mean    24.033760    3.382979    14.513028    24.955526   26.419540   \n",
       "std     41.091234    4.656331    23.763373    46.651526   43.024179   \n",
       "min      1.000000    1.000000     1.000000     1.000000    1.000000   \n",
       "25%      5.000000    1.000000     3.000000     4.000000    5.000000   \n",
       "50%     12.000000    2.000000     7.000000    11.000000   13.500000   \n",
       "75%     26.500000    4.000000    16.000000    27.000000   28.250000   \n",
       "max    718.000000   38.000000   325.000000   952.000000  400.000000   \n",
       "\n",
       "       Average Age  \n",
       "count   820.000000  \n",
       "mean     10.115000  \n",
       "std       6.859362  \n",
       "min       0.100000  \n",
       "25%       5.000000  \n",
       "50%       8.900000  \n",
       "75%      14.500000  \n",
       "max      39.000000  "
      ]
     },
     "execution_count": 6,
     "metadata": {},
     "output_type": "execute_result"
    }
   ],
   "source": [
    "fleet.describe()"
   ]
  },
  {
   "cell_type": "code",
   "execution_count": 7,
   "metadata": {},
   "outputs": [
    {
     "name": "stdout",
     "output_type": "stream",
     "text": [
      "<class 'pandas.core.frame.DataFrame'>\n",
      "RangeIndex: 1583 entries, 0 to 1582\n",
      "Data columns (total 11 columns):\n",
      "Parent Airline          1583 non-null object\n",
      "Airline                 1583 non-null object\n",
      "Aircraft Type           1583 non-null object\n",
      "Current                 859 non-null float64\n",
      "Future                  188 non-null float64\n",
      "Historic                1113 non-null float64\n",
      "Total                   1484 non-null float64\n",
      "Orders                  348 non-null float64\n",
      "Unit Cost               1548 non-null object\n",
      "Total Cost (Current)    1556 non-null object\n",
      "Average Age             820 non-null float64\n",
      "dtypes: float64(6), object(5)\n",
      "memory usage: 136.1+ KB\n"
     ]
    }
   ],
   "source": [
    "fleet.info()"
   ]
  },
  {
   "cell_type": "markdown",
   "metadata": {},
   "source": [
    "Number of unique parent airlines:"
   ]
  },
  {
   "cell_type": "code",
   "execution_count": 26,
   "metadata": {},
   "outputs": [
    {
     "data": {
      "text/plain": [
       "117"
      ]
     },
     "execution_count": 26,
     "metadata": {},
     "output_type": "execute_result"
    }
   ],
   "source": [
    "fleet['Parent Airline'].nunique()"
   ]
  },
  {
   "cell_type": "markdown",
   "metadata": {},
   "source": [
    "Number of unique airlines:"
   ]
  },
  {
   "cell_type": "code",
   "execution_count": 27,
   "metadata": {},
   "outputs": [
    {
     "data": {
      "text/plain": [
       "280"
      ]
     },
     "execution_count": 27,
     "metadata": {},
     "output_type": "execute_result"
    }
   ],
   "source": [
    "fleet['Airline'].nunique()"
   ]
  },
  {
   "cell_type": "code",
   "execution_count": 210,
   "metadata": {},
   "outputs": [
    {
     "data": {
      "text/plain": [
       "101"
      ]
     },
     "execution_count": 210,
     "metadata": {},
     "output_type": "execute_result"
    }
   ],
   "source": [
    "fleet['Aircraft Type'].nunique()"
   ]
  },
  {
   "cell_type": "code",
   "execution_count": 260,
   "metadata": {},
   "outputs": [
    {
     "data": {
      "text/plain": [
       "Index(['Parent Airline', 'Airline', 'Aircraft Type', 'Current', 'Future',\n",
       "       'Historic', 'Total', 'Orders', 'Unit Cost', 'Total Cost (Current)',\n",
       "       'Average Age'],\n",
       "      dtype='object')"
      ]
     },
     "execution_count": 260,
     "metadata": {},
     "output_type": "execute_result"
    }
   ],
   "source": [
    "fleet.columns"
   ]
  },
  {
   "cell_type": "code",
   "execution_count": 291,
   "metadata": {
    "collapsed": true
   },
   "outputs": [],
   "source": [
    "#Separating quantity and cost data from age:\n",
    "aircraftfleet = fleet[['Airline','Aircraft Type', 'Current', 'Future', 'Historic', 'Total', 'Orders', 'Total Cost (Current)']]\n",
    "parentfleet = fleet[['Parent Airline','Aircraft Type', 'Current', 'Future', 'Historic', 'Total', 'Orders', 'Total Cost (Current)']]"
   ]
  },
  {
   "cell_type": "code",
   "execution_count": 292,
   "metadata": {
    "scrolled": true
   },
   "outputs": [
    {
     "data": {
      "text/html": [
       "<div>\n",
       "<style scoped>\n",
       "    .dataframe tbody tr th:only-of-type {\n",
       "        vertical-align: middle;\n",
       "    }\n",
       "\n",
       "    .dataframe tbody tr th {\n",
       "        vertical-align: top;\n",
       "    }\n",
       "\n",
       "    .dataframe thead th {\n",
       "        text-align: right;\n",
       "    }\n",
       "</style>\n",
       "<table border=\"1\" class=\"dataframe\">\n",
       "  <thead>\n",
       "    <tr style=\"text-align: right;\">\n",
       "      <th></th>\n",
       "      <th>Airline</th>\n",
       "      <th>Aircraft Type</th>\n",
       "      <th>Current</th>\n",
       "      <th>Future</th>\n",
       "      <th>Historic</th>\n",
       "      <th>Total</th>\n",
       "      <th>Orders</th>\n",
       "      <th>Total Cost (Current)</th>\n",
       "    </tr>\n",
       "  </thead>\n",
       "  <tbody>\n",
       "    <tr>\n",
       "      <th>0</th>\n",
       "      <td>Aegean Airlines</td>\n",
       "      <td>Airbus A319</td>\n",
       "      <td>1.0</td>\n",
       "      <td>NaN</td>\n",
       "      <td>3.0</td>\n",
       "      <td>4.0</td>\n",
       "      <td>NaN</td>\n",
       "      <td>$90</td>\n",
       "    </tr>\n",
       "    <tr>\n",
       "      <th>1</th>\n",
       "      <td>Olympic Air</td>\n",
       "      <td>Airbus A319</td>\n",
       "      <td>NaN</td>\n",
       "      <td>NaN</td>\n",
       "      <td>8.0</td>\n",
       "      <td>8.0</td>\n",
       "      <td>NaN</td>\n",
       "      <td>$0</td>\n",
       "    </tr>\n",
       "    <tr>\n",
       "      <th>2</th>\n",
       "      <td>Aegean Airlines</td>\n",
       "      <td>Airbus A320</td>\n",
       "      <td>38.0</td>\n",
       "      <td>NaN</td>\n",
       "      <td>3.0</td>\n",
       "      <td>41.0</td>\n",
       "      <td>NaN</td>\n",
       "      <td>$3,724</td>\n",
       "    </tr>\n",
       "    <tr>\n",
       "      <th>3</th>\n",
       "      <td>Olympic Air</td>\n",
       "      <td>Airbus A320</td>\n",
       "      <td>NaN</td>\n",
       "      <td>NaN</td>\n",
       "      <td>9.0</td>\n",
       "      <td>9.0</td>\n",
       "      <td>NaN</td>\n",
       "      <td>$0</td>\n",
       "    </tr>\n",
       "    <tr>\n",
       "      <th>4</th>\n",
       "      <td>Aegean Airlines</td>\n",
       "      <td>Airbus A321</td>\n",
       "      <td>8.0</td>\n",
       "      <td>NaN</td>\n",
       "      <td>NaN</td>\n",
       "      <td>8.0</td>\n",
       "      <td>NaN</td>\n",
       "      <td>$919</td>\n",
       "    </tr>\n",
       "  </tbody>\n",
       "</table>\n",
       "</div>"
      ],
      "text/plain": [
       "           Airline Aircraft Type  Current  Future  Historic  Total  Orders  \\\n",
       "0  Aegean Airlines   Airbus A319      1.0     NaN       3.0    4.0     NaN   \n",
       "1      Olympic Air   Airbus A319      NaN     NaN       8.0    8.0     NaN   \n",
       "2  Aegean Airlines   Airbus A320     38.0     NaN       3.0   41.0     NaN   \n",
       "3      Olympic Air   Airbus A320      NaN     NaN       9.0    9.0     NaN   \n",
       "4  Aegean Airlines   Airbus A321      8.0     NaN       NaN    8.0     NaN   \n",
       "\n",
       "  Total Cost (Current)  \n",
       "0                  $90  \n",
       "1                   $0  \n",
       "2               $3,724  \n",
       "3                   $0  \n",
       "4                 $919  "
      ]
     },
     "execution_count": 292,
     "metadata": {},
     "output_type": "execute_result"
    }
   ],
   "source": [
    "aircraftfleet.head(5)"
   ]
  },
  {
   "cell_type": "code",
   "execution_count": 293,
   "metadata": {},
   "outputs": [
    {
     "data": {
      "text/html": [
       "<div>\n",
       "<style scoped>\n",
       "    .dataframe tbody tr th:only-of-type {\n",
       "        vertical-align: middle;\n",
       "    }\n",
       "\n",
       "    .dataframe tbody tr th {\n",
       "        vertical-align: top;\n",
       "    }\n",
       "\n",
       "    .dataframe thead th {\n",
       "        text-align: right;\n",
       "    }\n",
       "</style>\n",
       "<table border=\"1\" class=\"dataframe\">\n",
       "  <thead>\n",
       "    <tr style=\"text-align: right;\">\n",
       "      <th></th>\n",
       "      <th>Parent Airline</th>\n",
       "      <th>Aircraft Type</th>\n",
       "      <th>Current</th>\n",
       "      <th>Future</th>\n",
       "      <th>Historic</th>\n",
       "      <th>Total</th>\n",
       "      <th>Orders</th>\n",
       "      <th>Total Cost (Current)</th>\n",
       "    </tr>\n",
       "  </thead>\n",
       "  <tbody>\n",
       "    <tr>\n",
       "      <th>0</th>\n",
       "      <td>Aegean Airlines</td>\n",
       "      <td>Airbus A319</td>\n",
       "      <td>1.0</td>\n",
       "      <td>NaN</td>\n",
       "      <td>3.0</td>\n",
       "      <td>4.0</td>\n",
       "      <td>NaN</td>\n",
       "      <td>$90</td>\n",
       "    </tr>\n",
       "    <tr>\n",
       "      <th>1</th>\n",
       "      <td>Aegean Airlines</td>\n",
       "      <td>Airbus A319</td>\n",
       "      <td>NaN</td>\n",
       "      <td>NaN</td>\n",
       "      <td>8.0</td>\n",
       "      <td>8.0</td>\n",
       "      <td>NaN</td>\n",
       "      <td>$0</td>\n",
       "    </tr>\n",
       "    <tr>\n",
       "      <th>2</th>\n",
       "      <td>Aegean Airlines</td>\n",
       "      <td>Airbus A320</td>\n",
       "      <td>38.0</td>\n",
       "      <td>NaN</td>\n",
       "      <td>3.0</td>\n",
       "      <td>41.0</td>\n",
       "      <td>NaN</td>\n",
       "      <td>$3,724</td>\n",
       "    </tr>\n",
       "    <tr>\n",
       "      <th>3</th>\n",
       "      <td>Aegean Airlines</td>\n",
       "      <td>Airbus A320</td>\n",
       "      <td>NaN</td>\n",
       "      <td>NaN</td>\n",
       "      <td>9.0</td>\n",
       "      <td>9.0</td>\n",
       "      <td>NaN</td>\n",
       "      <td>$0</td>\n",
       "    </tr>\n",
       "    <tr>\n",
       "      <th>4</th>\n",
       "      <td>Aegean Airlines</td>\n",
       "      <td>Airbus A321</td>\n",
       "      <td>8.0</td>\n",
       "      <td>NaN</td>\n",
       "      <td>NaN</td>\n",
       "      <td>8.0</td>\n",
       "      <td>NaN</td>\n",
       "      <td>$919</td>\n",
       "    </tr>\n",
       "  </tbody>\n",
       "</table>\n",
       "</div>"
      ],
      "text/plain": [
       "    Parent Airline Aircraft Type  Current  Future  Historic  Total  Orders  \\\n",
       "0  Aegean Airlines   Airbus A319      1.0     NaN       3.0    4.0     NaN   \n",
       "1  Aegean Airlines   Airbus A319      NaN     NaN       8.0    8.0     NaN   \n",
       "2  Aegean Airlines   Airbus A320     38.0     NaN       3.0   41.0     NaN   \n",
       "3  Aegean Airlines   Airbus A320      NaN     NaN       9.0    9.0     NaN   \n",
       "4  Aegean Airlines   Airbus A321      8.0     NaN       NaN    8.0     NaN   \n",
       "\n",
       "  Total Cost (Current)  \n",
       "0                  $90  \n",
       "1                   $0  \n",
       "2               $3,724  \n",
       "3                   $0  \n",
       "4                 $919  "
      ]
     },
     "execution_count": 293,
     "metadata": {},
     "output_type": "execute_result"
    }
   ],
   "source": [
    "parentfleet.head(5)"
   ]
  },
  {
   "cell_type": "markdown",
   "metadata": {},
   "source": [
    "<h2> Airlines</h2>"
   ]
  },
  {
   "cell_type": "code",
   "execution_count": 289,
   "metadata": {
    "scrolled": true
   },
   "outputs": [
    {
     "data": {
      "text/html": [
       "<div>\n",
       "<style scoped>\n",
       "    .dataframe tbody tr th:only-of-type {\n",
       "        vertical-align: middle;\n",
       "    }\n",
       "\n",
       "    .dataframe tbody tr th {\n",
       "        vertical-align: top;\n",
       "    }\n",
       "\n",
       "    .dataframe thead th {\n",
       "        text-align: right;\n",
       "    }\n",
       "</style>\n",
       "<table border=\"1\" class=\"dataframe\">\n",
       "  <thead>\n",
       "    <tr style=\"text-align: right;\">\n",
       "      <th></th>\n",
       "      <th>Current</th>\n",
       "      <th>Future</th>\n",
       "      <th>Historic</th>\n",
       "      <th>Total</th>\n",
       "      <th>Orders</th>\n",
       "    </tr>\n",
       "    <tr>\n",
       "      <th>Airline</th>\n",
       "      <th></th>\n",
       "      <th></th>\n",
       "      <th></th>\n",
       "      <th></th>\n",
       "      <th></th>\n",
       "    </tr>\n",
       "  </thead>\n",
       "  <tbody>\n",
       "    <tr>\n",
       "      <th>ABX Air</th>\n",
       "      <td>28.0</td>\n",
       "      <td>0.0</td>\n",
       "      <td>117.0</td>\n",
       "      <td>145.0</td>\n",
       "      <td>0.0</td>\n",
       "    </tr>\n",
       "    <tr>\n",
       "      <th>ANA Wings</th>\n",
       "      <td>39.0</td>\n",
       "      <td>0.0</td>\n",
       "      <td>12.0</td>\n",
       "      <td>51.0</td>\n",
       "      <td>24.0</td>\n",
       "    </tr>\n",
       "    <tr>\n",
       "      <th>Aegean Airlines</th>\n",
       "      <td>47.0</td>\n",
       "      <td>0.0</td>\n",
       "      <td>35.0</td>\n",
       "      <td>82.0</td>\n",
       "      <td>0.0</td>\n",
       "    </tr>\n",
       "    <tr>\n",
       "      <th>Aer Lingus</th>\n",
       "      <td>51.0</td>\n",
       "      <td>1.0</td>\n",
       "      <td>86.0</td>\n",
       "      <td>138.0</td>\n",
       "      <td>11.0</td>\n",
       "    </tr>\n",
       "    <tr>\n",
       "      <th>Aer Lingus Regional</th>\n",
       "      <td>11.0</td>\n",
       "      <td>0.0</td>\n",
       "      <td>12.0</td>\n",
       "      <td>23.0</td>\n",
       "      <td>0.0</td>\n",
       "    </tr>\n",
       "    <tr>\n",
       "      <th>AeroUnion</th>\n",
       "      <td>7.0</td>\n",
       "      <td>0.0</td>\n",
       "      <td>2.0</td>\n",
       "      <td>9.0</td>\n",
       "      <td>0.0</td>\n",
       "    </tr>\n",
       "    <tr>\n",
       "      <th>Aeroflot</th>\n",
       "      <td>189.0</td>\n",
       "      <td>2.0</td>\n",
       "      <td>105.0</td>\n",
       "      <td>296.0</td>\n",
       "      <td>161.0</td>\n",
       "    </tr>\n",
       "    <tr>\n",
       "      <th>Aerolineas Argentinas</th>\n",
       "      <td>54.0</td>\n",
       "      <td>2.0</td>\n",
       "      <td>117.0</td>\n",
       "      <td>173.0</td>\n",
       "      <td>0.0</td>\n",
       "    </tr>\n",
       "    <tr>\n",
       "      <th>Aeromexico</th>\n",
       "      <td>69.0</td>\n",
       "      <td>2.0</td>\n",
       "      <td>154.0</td>\n",
       "      <td>225.0</td>\n",
       "      <td>85.0</td>\n",
       "    </tr>\n",
       "    <tr>\n",
       "      <th>Aeromexico Connect</th>\n",
       "      <td>69.0</td>\n",
       "      <td>0.0</td>\n",
       "      <td>23.0</td>\n",
       "      <td>92.0</td>\n",
       "      <td>3.0</td>\n",
       "    </tr>\n",
       "  </tbody>\n",
       "</table>\n",
       "</div>"
      ],
      "text/plain": [
       "                       Current  Future  Historic  Total  Orders\n",
       "Airline                                                        \n",
       "ABX Air                   28.0     0.0     117.0  145.0     0.0\n",
       "ANA Wings                 39.0     0.0      12.0   51.0    24.0\n",
       "Aegean Airlines           47.0     0.0      35.0   82.0     0.0\n",
       "Aer Lingus                51.0     1.0      86.0  138.0    11.0\n",
       "Aer Lingus Regional       11.0     0.0      12.0   23.0     0.0\n",
       "AeroUnion                  7.0     0.0       2.0    9.0     0.0\n",
       "Aeroflot                 189.0     2.0     105.0  296.0   161.0\n",
       "Aerolineas Argentinas     54.0     2.0     117.0  173.0     0.0\n",
       "Aeromexico                69.0     2.0     154.0  225.0    85.0\n",
       "Aeromexico Connect        69.0     0.0      23.0   92.0     3.0"
      ]
     },
     "execution_count": 289,
     "metadata": {},
     "output_type": "execute_result"
    }
   ],
   "source": [
    "# Grouping data by Airline name to see tha aircraft fleet size including all aircraft type:\n",
    "aircraftfleet.groupby(axis=0, by='Airline').sum().head(10)"
   ]
  },
  {
   "cell_type": "code",
   "execution_count": 303,
   "metadata": {},
   "outputs": [
    {
     "data": {
      "text/plain": [
       "Airline\n",
       "American Airlines          928.0\n",
       "Delta Airlines             855.0\n",
       "United Airlines            730.0\n",
       "Southwest Airlines         718.0\n",
       "China Southern Airlines    522.0\n",
       "China Eastern Airlines     451.0\n",
       "FedEx Express              408.0\n",
       "Air China                  375.0\n",
       "RyanAir                    366.0\n",
       "American Eagle             297.0\n",
       "Turkish Airlines           295.0\n",
       "FedEx Feeder Fleet         288.0\n",
       "British Airways            268.0\n",
       "Lufthansa                  267.0\n",
       "Emirates                   249.0\n",
       "UPS                        236.0\n",
       "easyJet                    234.0\n",
       "Air France                 226.0\n",
       "JetBlue Airways            225.0\n",
       "All Nippon Airways         215.0\n",
       "Name: Current, dtype: float64"
      ]
     },
     "execution_count": 303,
     "metadata": {},
     "output_type": "execute_result"
    }
   ],
   "source": [
    "# Top 20 Parent Airlines with the biggest currently active aircraft fleet:\n",
    "aircraftfleet.groupby(by='Airline').sum()['Current'].sort_values(ascending=False).head(20)"
   ]
  },
  {
   "cell_type": "markdown",
   "metadata": {},
   "source": [
    "<h2> Parent Airlines </h2>"
   ]
  },
  {
   "cell_type": "code",
   "execution_count": 294,
   "metadata": {},
   "outputs": [
    {
     "data": {
      "text/html": [
       "<div>\n",
       "<style scoped>\n",
       "    .dataframe tbody tr th:only-of-type {\n",
       "        vertical-align: middle;\n",
       "    }\n",
       "\n",
       "    .dataframe tbody tr th {\n",
       "        vertical-align: top;\n",
       "    }\n",
       "\n",
       "    .dataframe thead th {\n",
       "        text-align: right;\n",
       "    }\n",
       "</style>\n",
       "<table border=\"1\" class=\"dataframe\">\n",
       "  <thead>\n",
       "    <tr style=\"text-align: right;\">\n",
       "      <th></th>\n",
       "      <th>Current</th>\n",
       "      <th>Future</th>\n",
       "      <th>Historic</th>\n",
       "      <th>Total</th>\n",
       "      <th>Orders</th>\n",
       "    </tr>\n",
       "    <tr>\n",
       "      <th>Parent Airline</th>\n",
       "      <th></th>\n",
       "      <th></th>\n",
       "      <th></th>\n",
       "      <th></th>\n",
       "      <th></th>\n",
       "    </tr>\n",
       "  </thead>\n",
       "  <tbody>\n",
       "    <tr>\n",
       "      <th>Aegean Airlines</th>\n",
       "      <td>61.0</td>\n",
       "      <td>0.0</td>\n",
       "      <td>59.0</td>\n",
       "      <td>120.0</td>\n",
       "      <td>0.0</td>\n",
       "    </tr>\n",
       "    <tr>\n",
       "      <th>Aeroflot</th>\n",
       "      <td>282.0</td>\n",
       "      <td>12.0</td>\n",
       "      <td>153.0</td>\n",
       "      <td>446.0</td>\n",
       "      <td>188.0</td>\n",
       "    </tr>\n",
       "    <tr>\n",
       "      <th>Aerolineas Argentinas</th>\n",
       "      <td>80.0</td>\n",
       "      <td>3.0</td>\n",
       "      <td>167.0</td>\n",
       "      <td>250.0</td>\n",
       "      <td>0.0</td>\n",
       "    </tr>\n",
       "    <tr>\n",
       "      <th>Air Algerie</th>\n",
       "      <td>56.0</td>\n",
       "      <td>1.0</td>\n",
       "      <td>106.0</td>\n",
       "      <td>163.0</td>\n",
       "      <td>10.0</td>\n",
       "    </tr>\n",
       "    <tr>\n",
       "      <th>Air Arabia</th>\n",
       "      <td>46.0</td>\n",
       "      <td>0.0</td>\n",
       "      <td>36.0</td>\n",
       "      <td>82.0</td>\n",
       "      <td>0.0</td>\n",
       "    </tr>\n",
       "    <tr>\n",
       "      <th>Air Astana</th>\n",
       "      <td>31.0</td>\n",
       "      <td>0.0</td>\n",
       "      <td>18.0</td>\n",
       "      <td>49.0</td>\n",
       "      <td>13.0</td>\n",
       "    </tr>\n",
       "    <tr>\n",
       "      <th>Air Berlin</th>\n",
       "      <td>130.0</td>\n",
       "      <td>9.0</td>\n",
       "      <td>242.0</td>\n",
       "      <td>381.0</td>\n",
       "      <td>5.0</td>\n",
       "    </tr>\n",
       "    <tr>\n",
       "      <th>Air Canada</th>\n",
       "      <td>214.0</td>\n",
       "      <td>3.0</td>\n",
       "      <td>376.0</td>\n",
       "      <td>593.0</td>\n",
       "      <td>128.0</td>\n",
       "    </tr>\n",
       "    <tr>\n",
       "      <th>Air China</th>\n",
       "      <td>708.0</td>\n",
       "      <td>11.0</td>\n",
       "      <td>229.0</td>\n",
       "      <td>948.0</td>\n",
       "      <td>241.0</td>\n",
       "    </tr>\n",
       "    <tr>\n",
       "      <th>Air Europa</th>\n",
       "      <td>51.0</td>\n",
       "      <td>4.0</td>\n",
       "      <td>105.0</td>\n",
       "      <td>160.0</td>\n",
       "      <td>46.0</td>\n",
       "    </tr>\n",
       "  </tbody>\n",
       "</table>\n",
       "</div>"
      ],
      "text/plain": [
       "                       Current  Future  Historic  Total  Orders\n",
       "Parent Airline                                                 \n",
       "Aegean Airlines           61.0     0.0      59.0  120.0     0.0\n",
       "Aeroflot                 282.0    12.0     153.0  446.0   188.0\n",
       "Aerolineas Argentinas     80.0     3.0     167.0  250.0     0.0\n",
       "Air Algerie               56.0     1.0     106.0  163.0    10.0\n",
       "Air Arabia                46.0     0.0      36.0   82.0     0.0\n",
       "Air Astana                31.0     0.0      18.0   49.0    13.0\n",
       "Air Berlin               130.0     9.0     242.0  381.0     5.0\n",
       "Air Canada               214.0     3.0     376.0  593.0   128.0\n",
       "Air China                708.0    11.0     229.0  948.0   241.0\n",
       "Air Europa                51.0     4.0     105.0  160.0    46.0"
      ]
     },
     "execution_count": 294,
     "metadata": {},
     "output_type": "execute_result"
    }
   ],
   "source": [
    "# Grouping data by Parent Airline name to see tha aircraft fleet size including all aircraft type:\n",
    "parentfleet.groupby(axis=0, by='Parent Airline').sum().head(10)"
   ]
  },
  {
   "cell_type": "code",
   "execution_count": 302,
   "metadata": {},
   "outputs": [
    {
     "data": {
      "text/plain": [
       "Parent Airline\n",
       "American Airlines          1410.0\n",
       "Delta Airlines              989.0\n",
       "Lufthansa                   737.0\n",
       "United Airlines             730.0\n",
       "Southwest Airlines          718.0\n",
       "Air China                   708.0\n",
       "FedEx Express               696.0\n",
       "IAG                         608.0\n",
       "China Eastern Airlines      579.0\n",
       "Air France/KLM              541.0\n",
       "China Southern Airlines     522.0\n",
       "Qantas Airways              367.0\n",
       "Ryanair                     366.0\n",
       "LATAM Airlines Chile        347.0\n",
       "Turkish Airlines            329.0\n",
       "Hainan Airlines             294.0\n",
       "Aeroflot                    282.0\n",
       "Lion Air                    270.0\n",
       "All Nippon Airways          264.0\n",
       "easyJet                     260.0\n",
       "Emirates                    249.0\n",
       "Avianca                     243.0\n",
       "UPS Airlines                236.0\n",
       "JetBlue                     225.0\n",
       "Alaska Airlines             225.0\n",
       "Japan Airlines              223.0\n",
       "Air Canada                  214.0\n",
       "Skywest                     209.0\n",
       "SAS Group                   206.0\n",
       "AirAsia                     204.0\n",
       "Cathay Pacific              201.0\n",
       "Qatar Airways               200.0\n",
       "Garuda Indonesia            188.0\n",
       "Korean Air                  188.0\n",
       "Saudi Arabian Airlines      177.0\n",
       "Trans States Airlines       170.0\n",
       "Skywest Airlines            166.0\n",
       "WestJet                     151.0\n",
       "Singapore Airlines          147.0\n",
       "Virgin Australia            147.0\n",
       "Air India                   146.0\n",
       "Grupo Aeromexico            140.0\n",
       "Mesa Airlines               133.0\n",
       "TUI Group                   132.0\n",
       "Air Berlin                  130.0\n",
       "Thai Airways                128.0\n",
       "Etihad Airways              124.0\n",
       "Gol Linhas Aéreas           124.0\n",
       "IndiGo                      124.0\n",
       "Azul                        123.0\n",
       "Name: Current, dtype: float64"
      ]
     },
     "execution_count": 302,
     "metadata": {},
     "output_type": "execute_result"
    }
   ],
   "source": [
    "# Top20 Airlines with the biggest currently active aircraft fleet:\n",
    "parentfleet.groupby(by='Parent Airline').sum()['Current'].sort_values(ascending=False).head(50)"
   ]
  },
  {
   "cell_type": "markdown",
   "metadata": {},
   "source": [
    "<h4>Let's explore a bit more in details information about some specific major Parent Airlines operating in Europe, Middle-East and Asia.</h4>"
   ]
  },
  {
   "cell_type": "markdown",
   "metadata": {},
   "source": [
    "<h4> I'll choose the following airlines:\n",
    "\n",
    "Air France/KLM,\n",
    "\n",
    "Aeroflot,\n",
    "\n",
    "Lufthansa,\n",
    "\n",
    "Emirates,\n",
    "\n",
    "American Airlines;</h4>"
   ]
  },
  {
   "cell_type": "code",
   "execution_count": 320,
   "metadata": {
    "scrolled": false
   },
   "outputs": [
    {
     "data": {
      "text/plain": [
       "Parent Airline\n",
       "American Airlines    1410.0\n",
       "Lufthansa             737.0\n",
       "Air France/KLM        541.0\n",
       "Aeroflot              282.0\n",
       "Emirates              249.0\n",
       "Name: Current, dtype: float64"
      ]
     },
     "execution_count": 320,
     "metadata": {},
     "output_type": "execute_result"
    }
   ],
   "source": [
    "# Fleet size for these specific airlines:\n",
    "fleet[(fleet['Parent Airline'] == 'Air France/KLM') | (fleet['Parent Airline'] == 'Aeroflot') | (fleet['Parent Airline'] == 'Lufthansa') | (fleet['Parent Airline'] == 'Emirates') | (fleet['Parent Airline'] == 'American Airlines')].groupby(by='Parent Airline').sum()['Current'].sort_values(ascending=False).head(50)"
   ]
  },
  {
   "cell_type": "code",
   "execution_count": 361,
   "metadata": {},
   "outputs": [],
   "source": [
    "# selected_airlines = fleet[(fleet['Parent Airline'] == 'Air France/KLM') | (fleet['Parent Airline'] == 'Aeroflot') | (fleet['Parent Airline'] == 'Lufthansa') | (fleet['Parent Airline'] == 'Emirates') | (fleet['Parent Airline'] == 'American Airlines')]\n",
    "selected_airlines = fleet[(fleet['Parent Airline'] == 'Air France/KLM') | (fleet['Parent Airline'] == 'Aeroflot') | (fleet['Parent Airline'] == 'Lufthansa') | (fleet['Parent Airline'] == 'Emirates') | (fleet['Parent Airline'] == 'American Airlines')].copy()"
   ]
  },
  {
   "cell_type": "code",
   "execution_count": 350,
   "metadata": {},
   "outputs": [
    {
     "data": {
      "text/html": [
       "<div>\n",
       "<style scoped>\n",
       "    .dataframe tbody tr th:only-of-type {\n",
       "        vertical-align: middle;\n",
       "    }\n",
       "\n",
       "    .dataframe tbody tr th {\n",
       "        vertical-align: top;\n",
       "    }\n",
       "\n",
       "    .dataframe thead th {\n",
       "        text-align: right;\n",
       "    }\n",
       "</style>\n",
       "<table border=\"1\" class=\"dataframe\">\n",
       "  <thead>\n",
       "    <tr style=\"text-align: right;\">\n",
       "      <th></th>\n",
       "      <th>Parent Airline</th>\n",
       "      <th>Aircraft Type</th>\n",
       "      <th>Average Age</th>\n",
       "    </tr>\n",
       "  </thead>\n",
       "  <tbody>\n",
       "    <tr>\n",
       "      <th>195</th>\n",
       "      <td>Air France/KLM</td>\n",
       "      <td>Boeing 747</td>\n",
       "      <td>26.6</td>\n",
       "    </tr>\n",
       "    <tr>\n",
       "      <th>378</th>\n",
       "      <td>American Airlines</td>\n",
       "      <td>De Havilland Canada DHC-8 Dash 8</td>\n",
       "      <td>26.1</td>\n",
       "    </tr>\n",
       "    <tr>\n",
       "      <th>1005</th>\n",
       "      <td>Lufthansa</td>\n",
       "      <td>Airbus A320</td>\n",
       "      <td>25.4</td>\n",
       "    </tr>\n",
       "    <tr>\n",
       "      <th>1077</th>\n",
       "      <td>Lufthansa</td>\n",
       "      <td>Fokker F70 / F100</td>\n",
       "      <td>23.2</td>\n",
       "    </tr>\n",
       "    <tr>\n",
       "      <th>389</th>\n",
       "      <td>American Airlines</td>\n",
       "      <td>McDonnell Douglas MD-80</td>\n",
       "      <td>22.2</td>\n",
       "    </tr>\n",
       "    <tr>\n",
       "      <th>194</th>\n",
       "      <td>Air France/KLM</td>\n",
       "      <td>Boeing 747</td>\n",
       "      <td>21.7</td>\n",
       "    </tr>\n",
       "    <tr>\n",
       "      <th>1041</th>\n",
       "      <td>Lufthansa</td>\n",
       "      <td>Boeing 767</td>\n",
       "      <td>20.9</td>\n",
       "    </tr>\n",
       "    <tr>\n",
       "      <th>218</th>\n",
       "      <td>Air France/KLM</td>\n",
       "      <td>Fokker F70 / F100</td>\n",
       "      <td>20.8</td>\n",
       "    </tr>\n",
       "    <tr>\n",
       "      <th>997</th>\n",
       "      <td>Lufthansa</td>\n",
       "      <td>Airbus A319</td>\n",
       "      <td>20.0</td>\n",
       "    </tr>\n",
       "    <tr>\n",
       "      <th>369</th>\n",
       "      <td>American Airlines</td>\n",
       "      <td>Boeing 767</td>\n",
       "      <td>19.9</td>\n",
       "    </tr>\n",
       "    <tr>\n",
       "      <th>1014</th>\n",
       "      <td>Lufthansa</td>\n",
       "      <td>Airbus A330</td>\n",
       "      <td>19.3</td>\n",
       "    </tr>\n",
       "    <tr>\n",
       "      <th>1018</th>\n",
       "      <td>Lufthansa</td>\n",
       "      <td>Airbus A330</td>\n",
       "      <td>19.3</td>\n",
       "    </tr>\n",
       "    <tr>\n",
       "      <th>1010</th>\n",
       "      <td>Lufthansa</td>\n",
       "      <td>Airbus A321</td>\n",
       "      <td>19.1</td>\n",
       "    </tr>\n",
       "    <tr>\n",
       "      <th>1053</th>\n",
       "      <td>Lufthansa</td>\n",
       "      <td>British Aerospace BAe 146/Avro RJ</td>\n",
       "      <td>18.3</td>\n",
       "    </tr>\n",
       "    <tr>\n",
       "      <th>182</th>\n",
       "      <td>Air France/KLM</td>\n",
       "      <td>Airbus A340</td>\n",
       "      <td>18.3</td>\n",
       "    </tr>\n",
       "    <tr>\n",
       "      <th>1055</th>\n",
       "      <td>Lufthansa</td>\n",
       "      <td>British Aerospace BAe 146/Avro RJ</td>\n",
       "      <td>18.3</td>\n",
       "    </tr>\n",
       "    <tr>\n",
       "      <th>1054</th>\n",
       "      <td>Lufthansa</td>\n",
       "      <td>British Aerospace BAe 146/Avro RJ</td>\n",
       "      <td>18.2</td>\n",
       "    </tr>\n",
       "    <tr>\n",
       "      <th>368</th>\n",
       "      <td>American Airlines</td>\n",
       "      <td>Boeing 757</td>\n",
       "      <td>17.9</td>\n",
       "    </tr>\n",
       "    <tr>\n",
       "      <th>30</th>\n",
       "      <td>Aeroflot</td>\n",
       "      <td>Boeing 777</td>\n",
       "      <td>17.7</td>\n",
       "    </tr>\n",
       "    <tr>\n",
       "      <th>381</th>\n",
       "      <td>American Airlines</td>\n",
       "      <td>Embraer ERJ-145</td>\n",
       "      <td>17.7</td>\n",
       "    </tr>\n",
       "  </tbody>\n",
       "</table>\n",
       "</div>"
      ],
      "text/plain": [
       "         Parent Airline                      Aircraft Type  Average Age\n",
       "195      Air France/KLM                         Boeing 747         26.6\n",
       "378   American Airlines   De Havilland Canada DHC-8 Dash 8         26.1\n",
       "1005          Lufthansa                        Airbus A320         25.4\n",
       "1077          Lufthansa                  Fokker F70 / F100         23.2\n",
       "389   American Airlines            McDonnell Douglas MD-80         22.2\n",
       "194      Air France/KLM                         Boeing 747         21.7\n",
       "1041          Lufthansa                         Boeing 767         20.9\n",
       "218      Air France/KLM                  Fokker F70 / F100         20.8\n",
       "997           Lufthansa                        Airbus A319         20.0\n",
       "369   American Airlines                         Boeing 767         19.9\n",
       "1014          Lufthansa                        Airbus A330         19.3\n",
       "1018          Lufthansa                        Airbus A330         19.3\n",
       "1010          Lufthansa                        Airbus A321         19.1\n",
       "1053          Lufthansa  British Aerospace BAe 146/Avro RJ         18.3\n",
       "182      Air France/KLM                        Airbus A340         18.3\n",
       "1055          Lufthansa  British Aerospace BAe 146/Avro RJ         18.3\n",
       "1054          Lufthansa  British Aerospace BAe 146/Avro RJ         18.2\n",
       "368   American Airlines                         Boeing 757         17.9\n",
       "30             Aeroflot                         Boeing 777         17.7\n",
       "381   American Airlines                    Embraer ERJ-145         17.7"
      ]
     },
     "execution_count": 350,
     "metadata": {},
     "output_type": "execute_result"
    }
   ],
   "source": [
    "# Top20 oldest currently active aircraft types based on the average age:\n",
    "selected_airlines[['Parent Airline', 'Aircraft Type','Average Age']].dropna(axis=0).sort_values(by='Average Age', ascending=False).head(20)"
   ]
  },
  {
   "cell_type": "code",
   "execution_count": 362,
   "metadata": {},
   "outputs": [
    {
     "data": {
      "text/html": [
       "<div>\n",
       "<style scoped>\n",
       "    .dataframe tbody tr th:only-of-type {\n",
       "        vertical-align: middle;\n",
       "    }\n",
       "\n",
       "    .dataframe tbody tr th {\n",
       "        vertical-align: top;\n",
       "    }\n",
       "\n",
       "    .dataframe thead th {\n",
       "        text-align: right;\n",
       "    }\n",
       "</style>\n",
       "<table border=\"1\" class=\"dataframe\">\n",
       "  <thead>\n",
       "    <tr style=\"text-align: right;\">\n",
       "      <th></th>\n",
       "      <th>Parent Airline</th>\n",
       "      <th>Aircraft Type</th>\n",
       "      <th>Average Age</th>\n",
       "    </tr>\n",
       "  </thead>\n",
       "  <tbody>\n",
       "    <tr>\n",
       "      <th>203</th>\n",
       "      <td>Air France/KLM</td>\n",
       "      <td>Boeing 787 Dreamliner</td>\n",
       "      <td>0.1</td>\n",
       "    </tr>\n",
       "    <tr>\n",
       "      <th>1047</th>\n",
       "      <td>Lufthansa</td>\n",
       "      <td>Bombardier BD-500 CSeries</td>\n",
       "      <td>0.3</td>\n",
       "    </tr>\n",
       "    <tr>\n",
       "      <th>212</th>\n",
       "      <td>Air France/KLM</td>\n",
       "      <td>Embraer ERJ-170</td>\n",
       "      <td>0.5</td>\n",
       "    </tr>\n",
       "    <tr>\n",
       "      <th>383</th>\n",
       "      <td>American Airlines</td>\n",
       "      <td>Embraer ERJ-170</td>\n",
       "      <td>0.6</td>\n",
       "    </tr>\n",
       "    <tr>\n",
       "      <th>1045</th>\n",
       "      <td>Lufthansa</td>\n",
       "      <td>Boeing 777</td>\n",
       "      <td>0.7</td>\n",
       "    </tr>\n",
       "    <tr>\n",
       "      <th>204</th>\n",
       "      <td>Air France/KLM</td>\n",
       "      <td>Boeing 787 Dreamliner</td>\n",
       "      <td>0.7</td>\n",
       "    </tr>\n",
       "    <tr>\n",
       "      <th>1004</th>\n",
       "      <td>Lufthansa</td>\n",
       "      <td>Airbus A320</td>\n",
       "      <td>0.7</td>\n",
       "    </tr>\n",
       "    <tr>\n",
       "      <th>371</th>\n",
       "      <td>American Airlines</td>\n",
       "      <td>Boeing 787 Dreamliner</td>\n",
       "      <td>1.2</td>\n",
       "    </tr>\n",
       "    <tr>\n",
       "      <th>1003</th>\n",
       "      <td>Lufthansa</td>\n",
       "      <td>Airbus A320</td>\n",
       "      <td>1.3</td>\n",
       "    </tr>\n",
       "    <tr>\n",
       "      <th>376</th>\n",
       "      <td>American Airlines</td>\n",
       "      <td>Canadair CRJ-900</td>\n",
       "      <td>1.5</td>\n",
       "    </tr>\n",
       "    <tr>\n",
       "      <th>377</th>\n",
       "      <td>American Airlines</td>\n",
       "      <td>Canadair CRJ-900</td>\n",
       "      <td>1.5</td>\n",
       "    </tr>\n",
       "    <tr>\n",
       "      <th>22</th>\n",
       "      <td>Aeroflot</td>\n",
       "      <td>Boeing 737</td>\n",
       "      <td>1.6</td>\n",
       "    </tr>\n",
       "    <tr>\n",
       "      <th>382</th>\n",
       "      <td>American Airlines</td>\n",
       "      <td>Embraer ERJ-170</td>\n",
       "      <td>1.9</td>\n",
       "    </tr>\n",
       "    <tr>\n",
       "      <th>23</th>\n",
       "      <td>Aeroflot</td>\n",
       "      <td>Boeing 737</td>\n",
       "      <td>2.1</td>\n",
       "    </tr>\n",
       "    <tr>\n",
       "      <th>40</th>\n",
       "      <td>Aeroflot</td>\n",
       "      <td>Sukhoi Superjet 100</td>\n",
       "      <td>2.2</td>\n",
       "    </tr>\n",
       "    <tr>\n",
       "      <th>29</th>\n",
       "      <td>Aeroflot</td>\n",
       "      <td>Boeing 777</td>\n",
       "      <td>2.5</td>\n",
       "    </tr>\n",
       "    <tr>\n",
       "      <th>1043</th>\n",
       "      <td>Lufthansa</td>\n",
       "      <td>Boeing 777</td>\n",
       "      <td>2.7</td>\n",
       "    </tr>\n",
       "    <tr>\n",
       "      <th>1017</th>\n",
       "      <td>Lufthansa</td>\n",
       "      <td>Airbus A330</td>\n",
       "      <td>3.4</td>\n",
       "    </tr>\n",
       "    <tr>\n",
       "      <th>16</th>\n",
       "      <td>Aeroflot</td>\n",
       "      <td>Airbus A321</td>\n",
       "      <td>3.6</td>\n",
       "    </tr>\n",
       "    <tr>\n",
       "      <th>612</th>\n",
       "      <td>Emirates</td>\n",
       "      <td>Airbus A380</td>\n",
       "      <td>3.7</td>\n",
       "    </tr>\n",
       "  </tbody>\n",
       "</table>\n",
       "</div>"
      ],
      "text/plain": [
       "         Parent Airline              Aircraft Type  Average Age\n",
       "203      Air France/KLM      Boeing 787 Dreamliner          0.1\n",
       "1047          Lufthansa  Bombardier BD-500 CSeries          0.3\n",
       "212      Air France/KLM            Embraer ERJ-170          0.5\n",
       "383   American Airlines            Embraer ERJ-170          0.6\n",
       "1045          Lufthansa                 Boeing 777          0.7\n",
       "204      Air France/KLM      Boeing 787 Dreamliner          0.7\n",
       "1004          Lufthansa                Airbus A320          0.7\n",
       "371   American Airlines      Boeing 787 Dreamliner          1.2\n",
       "1003          Lufthansa                Airbus A320          1.3\n",
       "376   American Airlines           Canadair CRJ-900          1.5\n",
       "377   American Airlines           Canadair CRJ-900          1.5\n",
       "22             Aeroflot                 Boeing 737          1.6\n",
       "382   American Airlines            Embraer ERJ-170          1.9\n",
       "23             Aeroflot                 Boeing 737          2.1\n",
       "40             Aeroflot        Sukhoi Superjet 100          2.2\n",
       "29             Aeroflot                 Boeing 777          2.5\n",
       "1043          Lufthansa                 Boeing 777          2.7\n",
       "1017          Lufthansa                Airbus A330          3.4\n",
       "16             Aeroflot                Airbus A321          3.6\n",
       "612            Emirates                Airbus A380          3.7"
      ]
     },
     "execution_count": 362,
     "metadata": {},
     "output_type": "execute_result"
    }
   ],
   "source": [
    "# Top20 newest currently active planes:\n",
    "selected_airlines[['Parent Airline', 'Aircraft Type','Average Age']].dropna(axis=0).sort_values(by='Average Age').head(20)"
   ]
  },
  {
   "cell_type": "code",
   "execution_count": 363,
   "metadata": {},
   "outputs": [
    {
     "data": {
      "text/plain": [
       "Index(['Parent Airline', 'Airline', 'Aircraft Type', 'Current', 'Future',\n",
       "       'Historic', 'Total', 'Orders', 'Unit Cost', 'Total Cost (Current)',\n",
       "       'Average Age'],\n",
       "      dtype='object')"
      ]
     },
     "execution_count": 363,
     "metadata": {},
     "output_type": "execute_result"
    }
   ],
   "source": [
    "selected_airlines.columns"
   ]
  },
  {
   "cell_type": "markdown",
   "metadata": {},
   "source": [
    "<h4> The following plot demonstrates the distribution of the aircraft types among daughter airlines.\n",
    "We can see which airline has the biggest variety of the planes.</h4>"
   ]
  },
  {
   "cell_type": "code",
   "execution_count": 378,
   "metadata": {
    "scrolled": false
   },
   "outputs": [
    {
     "data": {
      "text/plain": [
       "<matplotlib.legend.Legend at 0x20f06b19fd0>"
      ]
     },
     "execution_count": 378,
     "metadata": {},
     "output_type": "execute_result"
    },
    {
     "data": {
      "image/png": "[encoded data removed]",
      "text/plain": [
       "<matplotlib.figure.Figure at 0x20f06b1eba8>"
      ]
     },
     "metadata": {},
     "output_type": "display_data"
    }
   ],
   "source": [
    "plt.figure(figsize=(14,10))\n",
    "sns.countplot(data=selected_airlines, x='Parent Airline', hue='Airline')\n",
    "plt.legend(bbox_to_anchor=(1, 1.0))"
   ]
  },
  {
   "cell_type": "code",
   "execution_count": 379,
   "metadata": {
    "scrolled": true
   },
   "outputs": [
    {
     "data": {
      "text/plain": [
       "60"
      ]
     },
     "execution_count": 379,
     "metadata": {},
     "output_type": "execute_result"
    }
   ],
   "source": [
    "# Number of unique aircraft types\n",
    "selected_airlines['Aircraft Type'].nunique()"
   ]
  },
  {
   "cell_type": "code",
   "execution_count": 384,
   "metadata": {},
   "outputs": [
    {
     "data": {
      "text/plain": [
       "9"
      ]
     },
     "execution_count": 384,
     "metadata": {},
     "output_type": "execute_result"
    }
   ],
   "source": [
    "# Here we can find the number of unique aircraft types used by Emirates:\n",
    "selected_airlines[selected_airlines['Parent Airline'] == 'Emirates']['Aircraft Type'].nunique()"
   ]
  },
  {
   "cell_type": "code",
   "execution_count": 389,
   "metadata": {
    "scrolled": true
   },
   "outputs": [
    {
     "data": {
      "text/html": [
       "<div>\n",
       "<style scoped>\n",
       "    .dataframe tbody tr th:only-of-type {\n",
       "        vertical-align: middle;\n",
       "    }\n",
       "\n",
       "    .dataframe tbody tr th {\n",
       "        vertical-align: top;\n",
       "    }\n",
       "\n",
       "    .dataframe thead th {\n",
       "        text-align: right;\n",
       "    }\n",
       "</style>\n",
       "<table border=\"1\" class=\"dataframe\">\n",
       "  <thead>\n",
       "    <tr style=\"text-align: right;\">\n",
       "      <th></th>\n",
       "      <th>Aircraft Type</th>\n",
       "      <th>Current</th>\n",
       "      <th>Future</th>\n",
       "      <th>Historic</th>\n",
       "      <th>Total</th>\n",
       "      <th>Orders</th>\n",
       "    </tr>\n",
       "  </thead>\n",
       "  <tbody>\n",
       "    <tr>\n",
       "      <th>607</th>\n",
       "      <td>Airbus A300</td>\n",
       "      <td>NaN</td>\n",
       "      <td>NaN</td>\n",
       "      <td>7.0</td>\n",
       "      <td>7.0</td>\n",
       "      <td>NaN</td>\n",
       "    </tr>\n",
       "    <tr>\n",
       "      <th>608</th>\n",
       "      <td>Airbus A310</td>\n",
       "      <td>NaN</td>\n",
       "      <td>NaN</td>\n",
       "      <td>13.0</td>\n",
       "      <td>13.0</td>\n",
       "      <td>NaN</td>\n",
       "    </tr>\n",
       "    <tr>\n",
       "      <th>609</th>\n",
       "      <td>Airbus A319</td>\n",
       "      <td>1.0</td>\n",
       "      <td>NaN</td>\n",
       "      <td>NaN</td>\n",
       "      <td>1.0</td>\n",
       "      <td>NaN</td>\n",
       "    </tr>\n",
       "    <tr>\n",
       "      <th>610</th>\n",
       "      <td>Airbus A330</td>\n",
       "      <td>NaN</td>\n",
       "      <td>NaN</td>\n",
       "      <td>29.0</td>\n",
       "      <td>29.0</td>\n",
       "      <td>NaN</td>\n",
       "    </tr>\n",
       "    <tr>\n",
       "      <th>611</th>\n",
       "      <td>Airbus A340</td>\n",
       "      <td>NaN</td>\n",
       "      <td>NaN</td>\n",
       "      <td>18.0</td>\n",
       "      <td>18.0</td>\n",
       "      <td>NaN</td>\n",
       "    </tr>\n",
       "    <tr>\n",
       "      <th>612</th>\n",
       "      <td>Airbus A380</td>\n",
       "      <td>87.0</td>\n",
       "      <td>15.0</td>\n",
       "      <td>NaN</td>\n",
       "      <td>102.0</td>\n",
       "      <td>54.0</td>\n",
       "    </tr>\n",
       "    <tr>\n",
       "      <th>613</th>\n",
       "      <td>Boeing 737</td>\n",
       "      <td>NaN</td>\n",
       "      <td>NaN</td>\n",
       "      <td>1.0</td>\n",
       "      <td>1.0</td>\n",
       "      <td>NaN</td>\n",
       "    </tr>\n",
       "    <tr>\n",
       "      <th>614</th>\n",
       "      <td>Boeing 747</td>\n",
       "      <td>2.0</td>\n",
       "      <td>NaN</td>\n",
       "      <td>4.0</td>\n",
       "      <td>6.0</td>\n",
       "      <td>NaN</td>\n",
       "    </tr>\n",
       "    <tr>\n",
       "      <th>615</th>\n",
       "      <td>Boeing 777</td>\n",
       "      <td>159.0</td>\n",
       "      <td>5.0</td>\n",
       "      <td>10.0</td>\n",
       "      <td>174.0</td>\n",
       "      <td>177.0</td>\n",
       "    </tr>\n",
       "  </tbody>\n",
       "</table>\n",
       "</div>"
      ],
      "text/plain": [
       "    Aircraft Type  Current  Future  Historic  Total  Orders\n",
       "607   Airbus A300      NaN     NaN       7.0    7.0     NaN\n",
       "608   Airbus A310      NaN     NaN      13.0   13.0     NaN\n",
       "609   Airbus A319      1.0     NaN       NaN    1.0     NaN\n",
       "610   Airbus A330      NaN     NaN      29.0   29.0     NaN\n",
       "611   Airbus A340      NaN     NaN      18.0   18.0     NaN\n",
       "612   Airbus A380     87.0    15.0       NaN  102.0    54.0\n",
       "613    Boeing 737      NaN     NaN       1.0    1.0     NaN\n",
       "614    Boeing 747      2.0     NaN       4.0    6.0     NaN\n",
       "615    Boeing 777    159.0     5.0      10.0  174.0   177.0"
      ]
     },
     "execution_count": 389,
     "metadata": {},
     "output_type": "execute_result"
    }
   ],
   "source": [
    "selected_airlines[selected_airlines['Parent Airline'] == 'Emirates'][['Aircraft Type', 'Current', 'Future',\n",
    "       'Historic', 'Total', 'Orders']]"
   ]
  },
  {
   "cell_type": "markdown",
   "metadata": {},
   "source": [
    "<h4> Let's explore the average age of the aircraft accross selected Parent Airlines </h4>"
   ]
  },
  {
   "cell_type": "code",
   "execution_count": 419,
   "metadata": {},
   "outputs": [
    {
     "data": {
      "text/plain": [
       "<matplotlib.axes._subplots.AxesSubplot at 0x20f07bb0a58>"
      ]
     },
     "execution_count": 419,
     "metadata": {},
     "output_type": "execute_result"
    },
    {
     "data": {
      "image/png": "[encoded data removed]",
      "text/plain": [
       "<matplotlib.figure.Figure at 0x20f07b9efd0>"
      ]
     },
     "metadata": {},
     "output_type": "display_data"
    }
   ],
   "source": [
    "sns.set_style('darkgrid')\n",
    "plt.figure(figsize=(14,10))\n",
    "sns.boxplot(data=selected_airlines, x='Parent Airline', y='Average Age', palette='coolwarm')"
   ]
  },
  {
   "cell_type": "code",
   "execution_count": 429,
   "metadata": {},
   "outputs": [],
   "source": [
    "avg = selected_airlines.dropna(axis=0, subset=['Average Age',])[['Parent Airline','Airline','Aircraft Type','Average Age']]"
   ]
  },
  {
   "cell_type": "code",
   "execution_count": 444,
   "metadata": {},
   "outputs": [
    {
     "data": {
      "text/plain": [
       "array(['Airbus A319', 'Airbus A320', 'Airbus A321', 'Airbus A330',\n",
       "       'Boeing 737', 'Boeing 747', 'Boeing 777',\n",
       "       'De Havilland Canada DHC-8 Dash 8', 'Sukhoi Superjet 100',\n",
       "       'Airbus A318', 'Airbus A340', 'Airbus A380', 'ATR 42/72',\n",
       "       'Boeing 787 Dreamliner', 'Canadair CRJ-1000', 'Canadair CRJ-700',\n",
       "       'Embraer ERJ-145', 'Embraer ERJ-170', 'Embraer ERJ-190',\n",
       "       'Fokker F70 / F100', 'Boeing 757', 'Boeing 767',\n",
       "       'Canadair CRJ-100 Series', 'Canadair CRJ-900',\n",
       "       'McDonnell Douglas MD-80', 'Bombardier BD-500 CSeries',\n",
       "       'British Aerospace BAe 146/Avro RJ', 'McDonnell Douglas MD-11'], dtype=object)"
      ]
     },
     "execution_count": 444,
     "metadata": {},
     "output_type": "execute_result"
    }
   ],
   "source": [
    "# List of unique airplanes for these airlines:\n",
    "avg['Aircraft Type'].unique()"
   ]
  },
  {
   "cell_type": "code",
   "execution_count": 441,
   "metadata": {},
   "outputs": [
    {
     "data": {
      "text/plain": [
       "<matplotlib.axes._subplots.AxesSubplot at 0x20f0a996438>"
      ]
     },
     "execution_count": 441,
     "metadata": {},
     "output_type": "execute_result"
    },
    {
     "data": {
      "image/png": "[encoded data removed]",
      "text/plain": [
       "<matplotlib.figure.Figure at 0x20f0a996710>"
      ]
     },
     "metadata": {},
     "output_type": "display_data"
    }
   ],
   "source": [
    "plt.figure(figsize=(14,10))\n",
    "sns.boxplot(data=avg, y='Aircraft Type', x='Average Age')"
   ]
  },
  {
   "cell_type": "markdown",
   "metadata": {},
   "source": [
    "<h4> Now let's see the distribution of the big planes like Airbus A380, Airbus A330, Airbus A340, Boeing 747, Boeing 777, Boeing 787 among these selected airlines.<h4>"
   ]
  },
  {
   "cell_type": "code",
   "execution_count": 447,
   "metadata": {},
   "outputs": [],
   "source": [
    "biggies = selected_airlines[(selected_airlines['Aircraft Type'] == 'Airbus A380') | (selected_airlines['Aircraft Type'] == 'Airbus A330') | (selected_airlines['Aircraft Type'] == 'Airbus A340') | (selected_airlines['Aircraft Type'] == 'Boeing 747') | (selected_airlines['Aircraft Type'] == 'Boeing 777') | (selected_airlines['Aircraft Type'] == 'Boeing 787 Dreamliner')]"
   ]
  },
  {
   "cell_type": "code",
   "execution_count": 630,
   "metadata": {},
   "outputs": [
    {
     "data": {
      "text/html": [
       "<div>\n",
       "<style scoped>\n",
       "    .dataframe tbody tr th:only-of-type {\n",
       "        vertical-align: middle;\n",
       "    }\n",
       "\n",
       "    .dataframe tbody tr th {\n",
       "        vertical-align: top;\n",
       "    }\n",
       "\n",
       "    .dataframe thead th {\n",
       "        text-align: right;\n",
       "    }\n",
       "</style>\n",
       "<table border=\"1\" class=\"dataframe\">\n",
       "  <thead>\n",
       "    <tr style=\"text-align: right;\">\n",
       "      <th></th>\n",
       "      <th>Parent Airline</th>\n",
       "      <th>Airline</th>\n",
       "      <th>Aircraft Type</th>\n",
       "      <th>Current</th>\n",
       "      <th>Future</th>\n",
       "      <th>Historic</th>\n",
       "      <th>Total</th>\n",
       "      <th>Orders</th>\n",
       "      <th>Unit Cost</th>\n",
       "      <th>Total Cost (Current)</th>\n",
       "      <th>Average Age</th>\n",
       "    </tr>\n",
       "  </thead>\n",
       "  <tbody>\n",
       "    <tr>\n",
       "      <th>17</th>\n",
       "      <td>Aeroflot</td>\n",
       "      <td>Aeroflot</td>\n",
       "      <td>Airbus A330</td>\n",
       "      <td>22.0</td>\n",
       "      <td>NaN</td>\n",
       "      <td>NaN</td>\n",
       "      <td>22.0</td>\n",
       "      <td>NaN</td>\n",
       "      <td>$240</td>\n",
       "      <td>$5,280</td>\n",
       "      <td>5.9</td>\n",
       "    </tr>\n",
       "    <tr>\n",
       "      <th>26</th>\n",
       "      <td>Aeroflot</td>\n",
       "      <td>Rossiya Airlines</td>\n",
       "      <td>Boeing 747</td>\n",
       "      <td>7.0</td>\n",
       "      <td>2.0</td>\n",
       "      <td>NaN</td>\n",
       "      <td>9.0</td>\n",
       "      <td>2.0</td>\n",
       "      <td>$316</td>\n",
       "      <td>$2,211</td>\n",
       "      <td>16.7</td>\n",
       "    </tr>\n",
       "    <tr>\n",
       "      <th>29</th>\n",
       "      <td>Aeroflot</td>\n",
       "      <td>Aeroflot</td>\n",
       "      <td>Boeing 777</td>\n",
       "      <td>15.0</td>\n",
       "      <td>NaN</td>\n",
       "      <td>2.0</td>\n",
       "      <td>17.0</td>\n",
       "      <td>1.0</td>\n",
       "      <td>$295</td>\n",
       "      <td>$4,418</td>\n",
       "      <td>2.5</td>\n",
       "    </tr>\n",
       "    <tr>\n",
       "      <th>30</th>\n",
       "      <td>Aeroflot</td>\n",
       "      <td>Rossiya Airlines</td>\n",
       "      <td>Boeing 777</td>\n",
       "      <td>6.0</td>\n",
       "      <td>5.0</td>\n",
       "      <td>1.0</td>\n",
       "      <td>12.0</td>\n",
       "      <td>5.0</td>\n",
       "      <td>$295</td>\n",
       "      <td>$1,767</td>\n",
       "      <td>17.7</td>\n",
       "    </tr>\n",
       "    <tr>\n",
       "      <th>180</th>\n",
       "      <td>Air France/KLM</td>\n",
       "      <td>Air France</td>\n",
       "      <td>Airbus A330</td>\n",
       "      <td>15.0</td>\n",
       "      <td>NaN</td>\n",
       "      <td>1.0</td>\n",
       "      <td>16.0</td>\n",
       "      <td>NaN</td>\n",
       "      <td>$240</td>\n",
       "      <td>$3,600</td>\n",
       "      <td>14.1</td>\n",
       "    </tr>\n",
       "  </tbody>\n",
       "</table>\n",
       "</div>"
      ],
      "text/plain": [
       "     Parent Airline           Airline Aircraft Type  Current  Future  \\\n",
       "17         Aeroflot          Aeroflot   Airbus A330     22.0     NaN   \n",
       "26         Aeroflot  Rossiya Airlines    Boeing 747      7.0     2.0   \n",
       "29         Aeroflot          Aeroflot    Boeing 777     15.0     NaN   \n",
       "30         Aeroflot  Rossiya Airlines    Boeing 777      6.0     5.0   \n",
       "180  Air France/KLM        Air France   Airbus A330     15.0     NaN   \n",
       "\n",
       "     Historic  Total  Orders Unit Cost Total Cost (Current)  Average Age  \n",
       "17        NaN   22.0     NaN      $240               $5,280          5.9  \n",
       "26        NaN    9.0     2.0      $316               $2,211         16.7  \n",
       "29        2.0   17.0     1.0      $295               $4,418          2.5  \n",
       "30        1.0   12.0     5.0      $295               $1,767         17.7  \n",
       "180       1.0   16.0     NaN      $240               $3,600         14.1  "
      ]
     },
     "execution_count": 630,
     "metadata": {},
     "output_type": "execute_result"
    }
   ],
   "source": [
    "biggies.head(5)"
   ]
  },
  {
   "cell_type": "code",
   "execution_count": 631,
   "metadata": {},
   "outputs": [
    {
     "name": "stderr",
     "output_type": "stream",
     "text": [
      "C:\\Users\\kozloiva\\AppData\\Local\\Continuum\\anaconda3\\lib\\site-packages\\ipykernel_launcher.py:1: UserWarning: Boolean Series key will be reindexed to match DataFrame index.\n",
      "  \"\"\"Entry point for launching an IPython kernel.\n"
     ]
    },
    {
     "data": {
      "text/html": [
       "<div>\n",
       "<style scoped>\n",
       "    .dataframe tbody tr th:only-of-type {\n",
       "        vertical-align: middle;\n",
       "    }\n",
       "\n",
       "    .dataframe tbody tr th {\n",
       "        vertical-align: top;\n",
       "    }\n",
       "\n",
       "    .dataframe thead th {\n",
       "        text-align: right;\n",
       "    }\n",
       "</style>\n",
       "<table border=\"1\" class=\"dataframe\">\n",
       "  <thead>\n",
       "    <tr style=\"text-align: right;\">\n",
       "      <th></th>\n",
       "      <th>Parent Airline</th>\n",
       "      <th>Airline</th>\n",
       "      <th>Aircraft Type</th>\n",
       "      <th>Current</th>\n",
       "    </tr>\n",
       "  </thead>\n",
       "  <tbody>\n",
       "    <tr>\n",
       "      <th>17</th>\n",
       "      <td>Aeroflot</td>\n",
       "      <td>Aeroflot</td>\n",
       "      <td>Airbus A330</td>\n",
       "      <td>22.0</td>\n",
       "    </tr>\n",
       "    <tr>\n",
       "      <th>1013</th>\n",
       "      <td>Lufthansa</td>\n",
       "      <td>Lufthansa</td>\n",
       "      <td>Airbus A330</td>\n",
       "      <td>19.0</td>\n",
       "    </tr>\n",
       "    <tr>\n",
       "      <th>362</th>\n",
       "      <td>American Airlines</td>\n",
       "      <td>American Airlines</td>\n",
       "      <td>Airbus A330</td>\n",
       "      <td>24.0</td>\n",
       "    </tr>\n",
       "    <tr>\n",
       "      <th>1014</th>\n",
       "      <td>Lufthansa</td>\n",
       "      <td>Brussels Airlines</td>\n",
       "      <td>Airbus A330</td>\n",
       "      <td>9.0</td>\n",
       "    </tr>\n",
       "    <tr>\n",
       "      <th>1015</th>\n",
       "      <td>Lufthansa</td>\n",
       "      <td>Eurowings</td>\n",
       "      <td>Airbus A330</td>\n",
       "      <td>6.0</td>\n",
       "    </tr>\n",
       "    <tr>\n",
       "      <th>1016</th>\n",
       "      <td>Lufthansa</td>\n",
       "      <td>Swiss International Airlines</td>\n",
       "      <td>Airbus A330</td>\n",
       "      <td>14.0</td>\n",
       "    </tr>\n",
       "    <tr>\n",
       "      <th>1017</th>\n",
       "      <td>Lufthansa</td>\n",
       "      <td>Edelweiss Air</td>\n",
       "      <td>Airbus A330</td>\n",
       "      <td>2.0</td>\n",
       "    </tr>\n",
       "    <tr>\n",
       "      <th>1018</th>\n",
       "      <td>Lufthansa</td>\n",
       "      <td>Brussels Airlines</td>\n",
       "      <td>Airbus A330</td>\n",
       "      <td>9.0</td>\n",
       "    </tr>\n",
       "    <tr>\n",
       "      <th>181</th>\n",
       "      <td>Air France/KLM</td>\n",
       "      <td>KLM</td>\n",
       "      <td>Airbus A330</td>\n",
       "      <td>13.0</td>\n",
       "    </tr>\n",
       "    <tr>\n",
       "      <th>180</th>\n",
       "      <td>Air France/KLM</td>\n",
       "      <td>Air France</td>\n",
       "      <td>Airbus A330</td>\n",
       "      <td>15.0</td>\n",
       "    </tr>\n",
       "    <tr>\n",
       "      <th>1020</th>\n",
       "      <td>Lufthansa</td>\n",
       "      <td>Lufthansa</td>\n",
       "      <td>Airbus A340</td>\n",
       "      <td>42.0</td>\n",
       "    </tr>\n",
       "    <tr>\n",
       "      <th>1021</th>\n",
       "      <td>Lufthansa</td>\n",
       "      <td>Swiss International Airlines</td>\n",
       "      <td>Airbus A340</td>\n",
       "      <td>10.0</td>\n",
       "    </tr>\n",
       "    <tr>\n",
       "      <th>182</th>\n",
       "      <td>Air France/KLM</td>\n",
       "      <td>Air France</td>\n",
       "      <td>Airbus A340</td>\n",
       "      <td>11.0</td>\n",
       "    </tr>\n",
       "    <tr>\n",
       "      <th>1022</th>\n",
       "      <td>Lufthansa</td>\n",
       "      <td>Edelweiss Air</td>\n",
       "      <td>Airbus A340</td>\n",
       "      <td>1.0</td>\n",
       "    </tr>\n",
       "    <tr>\n",
       "      <th>1023</th>\n",
       "      <td>Lufthansa</td>\n",
       "      <td>Lufthansa CityLine</td>\n",
       "      <td>Airbus A340</td>\n",
       "      <td>5.0</td>\n",
       "    </tr>\n",
       "    <tr>\n",
       "      <th>1025</th>\n",
       "      <td>Lufthansa</td>\n",
       "      <td>Lufthansa</td>\n",
       "      <td>Airbus A380</td>\n",
       "      <td>14.0</td>\n",
       "    </tr>\n",
       "    <tr>\n",
       "      <th>612</th>\n",
       "      <td>Emirates</td>\n",
       "      <td>Emirates</td>\n",
       "      <td>Airbus A380</td>\n",
       "      <td>87.0</td>\n",
       "    </tr>\n",
       "    <tr>\n",
       "      <th>185</th>\n",
       "      <td>Air France/KLM</td>\n",
       "      <td>Air France</td>\n",
       "      <td>Airbus A380</td>\n",
       "      <td>10.0</td>\n",
       "    </tr>\n",
       "    <tr>\n",
       "      <th>194</th>\n",
       "      <td>Air France/KLM</td>\n",
       "      <td>KLM</td>\n",
       "      <td>Boeing 747</td>\n",
       "      <td>20.0</td>\n",
       "    </tr>\n",
       "    <tr>\n",
       "      <th>614</th>\n",
       "      <td>Emirates</td>\n",
       "      <td>Emirates</td>\n",
       "      <td>Boeing 747</td>\n",
       "      <td>2.0</td>\n",
       "    </tr>\n",
       "  </tbody>\n",
       "</table>\n",
       "</div>"
      ],
      "text/plain": [
       "         Parent Airline                       Airline Aircraft Type  Current\n",
       "17             Aeroflot                      Aeroflot   Airbus A330     22.0\n",
       "1013          Lufthansa                     Lufthansa   Airbus A330     19.0\n",
       "362   American Airlines             American Airlines   Airbus A330     24.0\n",
       "1014          Lufthansa             Brussels Airlines   Airbus A330      9.0\n",
       "1015          Lufthansa                     Eurowings   Airbus A330      6.0\n",
       "1016          Lufthansa  Swiss International Airlines   Airbus A330     14.0\n",
       "1017          Lufthansa                 Edelweiss Air   Airbus A330      2.0\n",
       "1018          Lufthansa             Brussels Airlines   Airbus A330      9.0\n",
       "181      Air France/KLM                           KLM   Airbus A330     13.0\n",
       "180      Air France/KLM                    Air France   Airbus A330     15.0\n",
       "1020          Lufthansa                     Lufthansa   Airbus A340     42.0\n",
       "1021          Lufthansa  Swiss International Airlines   Airbus A340     10.0\n",
       "182      Air France/KLM                    Air France   Airbus A340     11.0\n",
       "1022          Lufthansa                 Edelweiss Air   Airbus A340      1.0\n",
       "1023          Lufthansa            Lufthansa CityLine   Airbus A340      5.0\n",
       "1025          Lufthansa                     Lufthansa   Airbus A380     14.0\n",
       "612            Emirates                      Emirates   Airbus A380     87.0\n",
       "185      Air France/KLM                    Air France   Airbus A380     10.0\n",
       "194      Air France/KLM                           KLM    Boeing 747     20.0\n",
       "614            Emirates                      Emirates    Boeing 747      2.0"
      ]
     },
     "execution_count": 631,
     "metadata": {},
     "output_type": "execute_result"
    }
   ],
   "source": [
    "biggies.sort_values('Aircraft Type')[biggies['Current'] > 0][['Parent Airline', 'Airline', 'Aircraft Type', 'Current']].head(20)"
   ]
  },
  {
   "cell_type": "code",
   "execution_count": 456,
   "metadata": {},
   "outputs": [
    {
     "data": {
      "text/plain": [
       "<matplotlib.legend.Legend at 0x20f0a358c50>"
      ]
     },
     "execution_count": 456,
     "metadata": {},
     "output_type": "execute_result"
    },
    {
     "data": {
      "image/png": "[encoded data removed]",
      "text/plain": [
       "<matplotlib.figure.Figure at 0x20f0763e358>"
      ]
     },
     "metadata": {},
     "output_type": "display_data"
    }
   ],
   "source": [
    "plt.figure(figsize=(10,6))\n",
    "sns.countplot(data=biggies, x='Aircraft Type', hue='Parent Airline')\n",
    "plt.legend(bbox_to_anchor=(1, 1.0))\n",
    "\n",
    "# The plot demonstrates how many Airlines under major daughter airlines use big aircraft."
   ]
  },
  {
   "cell_type": "code",
   "execution_count": 458,
   "metadata": {},
   "outputs": [
    {
     "data": {
      "text/plain": [
       "Index(['Parent Airline', 'Airline', 'Aircraft Type', 'Current', 'Future',\n",
       "       'Historic', 'Total', 'Orders', 'Unit Cost', 'Total Cost (Current)',\n",
       "       'Average Age'],\n",
       "      dtype='object')"
      ]
     },
     "execution_count": 458,
     "metadata": {},
     "output_type": "execute_result"
    }
   ],
   "source": [
    "selected_airlines.columns"
   ]
  },
  {
   "cell_type": "code",
   "execution_count": 463,
   "metadata": {},
   "outputs": [],
   "source": [
    "bigsorted = biggies.drop(axis=1, columns='Average Age').groupby('Aircraft Type').sum()"
   ]
  },
  {
   "cell_type": "code",
   "execution_count": 469,
   "metadata": {
    "scrolled": true
   },
   "outputs": [
    {
     "data": {
      "text/html": [
       "<div>\n",
       "<style scoped>\n",
       "    .dataframe tbody tr th:only-of-type {\n",
       "        vertical-align: middle;\n",
       "    }\n",
       "\n",
       "    .dataframe tbody tr th {\n",
       "        vertical-align: top;\n",
       "    }\n",
       "\n",
       "    .dataframe thead th {\n",
       "        text-align: right;\n",
       "    }\n",
       "</style>\n",
       "<table border=\"1\" class=\"dataframe\">\n",
       "  <thead>\n",
       "    <tr style=\"text-align: right;\">\n",
       "      <th></th>\n",
       "      <th>Current</th>\n",
       "      <th>Future</th>\n",
       "      <th>Historic</th>\n",
       "      <th>Total</th>\n",
       "      <th>Orders</th>\n",
       "    </tr>\n",
       "    <tr>\n",
       "      <th>Aircraft Type</th>\n",
       "      <th></th>\n",
       "      <th></th>\n",
       "      <th></th>\n",
       "      <th></th>\n",
       "      <th></th>\n",
       "    </tr>\n",
       "  </thead>\n",
       "  <tbody>\n",
       "    <tr>\n",
       "      <th>Boeing 777</th>\n",
       "      <td>360.0</td>\n",
       "      <td>13.0</td>\n",
       "      <td>14.0</td>\n",
       "      <td>387.0</td>\n",
       "      <td>218.0</td>\n",
       "    </tr>\n",
       "    <tr>\n",
       "      <th>Airbus A330</th>\n",
       "      <td>133.0</td>\n",
       "      <td>3.0</td>\n",
       "      <td>60.0</td>\n",
       "      <td>196.0</td>\n",
       "      <td>3.0</td>\n",
       "    </tr>\n",
       "    <tr>\n",
       "      <th>Airbus A380</th>\n",
       "      <td>111.0</td>\n",
       "      <td>15.0</td>\n",
       "      <td>0.0</td>\n",
       "      <td>126.0</td>\n",
       "      <td>54.0</td>\n",
       "    </tr>\n",
       "    <tr>\n",
       "      <th>Airbus A340</th>\n",
       "      <td>69.0</td>\n",
       "      <td>2.0</td>\n",
       "      <td>66.0</td>\n",
       "      <td>132.0</td>\n",
       "      <td>3.0</td>\n",
       "    </tr>\n",
       "    <tr>\n",
       "      <th>Boeing 747</th>\n",
       "      <td>62.0</td>\n",
       "      <td>2.0</td>\n",
       "      <td>188.0</td>\n",
       "      <td>252.0</td>\n",
       "      <td>2.0</td>\n",
       "    </tr>\n",
       "    <tr>\n",
       "      <th>Boeing 787 Dreamliner</th>\n",
       "      <td>29.0</td>\n",
       "      <td>9.0</td>\n",
       "      <td>0.0</td>\n",
       "      <td>38.0</td>\n",
       "      <td>48.0</td>\n",
       "    </tr>\n",
       "  </tbody>\n",
       "</table>\n",
       "</div>"
      ],
      "text/plain": [
       "                       Current  Future  Historic  Total  Orders\n",
       "Aircraft Type                                                  \n",
       "Boeing 777               360.0    13.0      14.0  387.0   218.0\n",
       "Airbus A330              133.0     3.0      60.0  196.0     3.0\n",
       "Airbus A380              111.0    15.0       0.0  126.0    54.0\n",
       "Airbus A340               69.0     2.0      66.0  132.0     3.0\n",
       "Boeing 747                62.0     2.0     188.0  252.0     2.0\n",
       "Boeing 787 Dreamliner     29.0     9.0       0.0   38.0    48.0"
      ]
     },
     "execution_count": 469,
     "metadata": {},
     "output_type": "execute_result"
    }
   ],
   "source": [
    "bigsorted.head(10).sort_values('Current', ascending=False)\n",
    "\n",
    "# As we can see the most used type of Aircraft among the selected Airlines is Boeing 777.\n",
    "# Boeing 787 Dreamliner is quite a new plane and is not that widely used yet.\n",
    "# Boeing 747 is quite old already and probably most airlines will soone replace these planes with newer ones, like 787."
   ]
  },
  {
   "cell_type": "code",
   "execution_count": 475,
   "metadata": {
    "collapsed": true
   },
   "outputs": [],
   "source": [
    "bigsorted = biggies.groupby('Aircraft Type').mean().sort_values('Average Age', ascending=False)"
   ]
  },
  {
   "cell_type": "code",
   "execution_count": 478,
   "metadata": {},
   "outputs": [
    {
     "data": {
      "text/plain": [
       "Aircraft Type\n",
       "Boeing 747               16.660000\n",
       "Airbus A340              14.850000\n",
       "Airbus A330              10.750000\n",
       "Boeing 777                8.688889\n",
       "Airbus A380               4.933333\n",
       "Boeing 787 Dreamliner     0.666667\n",
       "Name: Average Age, dtype: float64"
      ]
     },
     "execution_count": 478,
     "metadata": {},
     "output_type": "execute_result"
    }
   ],
   "source": [
    "bigsorted['Average Age']\n",
    "\n",
    "# As we can see below Boeing 747 is indeed in general older that other planes, while Boeing 787 planes are the youngest ones."
   ]
  },
  {
   "cell_type": "code",
   "execution_count": 523,
   "metadata": {
    "collapsed": true
   },
   "outputs": [],
   "source": [
    "airplanes = biggies[['Parent Airline', 'Aircraft Type', 'Current']].copy()"
   ]
  },
  {
   "cell_type": "code",
   "execution_count": 524,
   "metadata": {},
   "outputs": [],
   "source": [
    "airplanes.dropna(axis=0, subset=['Current',], inplace=True)"
   ]
  },
  {
   "cell_type": "code",
   "execution_count": 525,
   "metadata": {},
   "outputs": [
    {
     "data": {
      "text/html": [
       "<div>\n",
       "<style scoped>\n",
       "    .dataframe tbody tr th:only-of-type {\n",
       "        vertical-align: middle;\n",
       "    }\n",
       "\n",
       "    .dataframe tbody tr th {\n",
       "        vertical-align: top;\n",
       "    }\n",
       "\n",
       "    .dataframe thead th {\n",
       "        text-align: right;\n",
       "    }\n",
       "</style>\n",
       "<table border=\"1\" class=\"dataframe\">\n",
       "  <thead>\n",
       "    <tr style=\"text-align: right;\">\n",
       "      <th></th>\n",
       "      <th>Parent Airline</th>\n",
       "      <th>Aircraft Type</th>\n",
       "      <th>Current</th>\n",
       "    </tr>\n",
       "  </thead>\n",
       "  <tbody>\n",
       "    <tr>\n",
       "      <th>17</th>\n",
       "      <td>Aeroflot</td>\n",
       "      <td>Airbus A330</td>\n",
       "      <td>22.0</td>\n",
       "    </tr>\n",
       "    <tr>\n",
       "      <th>180</th>\n",
       "      <td>Air France/KLM</td>\n",
       "      <td>Airbus A330</td>\n",
       "      <td>15.0</td>\n",
       "    </tr>\n",
       "    <tr>\n",
       "      <th>181</th>\n",
       "      <td>Air France/KLM</td>\n",
       "      <td>Airbus A330</td>\n",
       "      <td>13.0</td>\n",
       "    </tr>\n",
       "    <tr>\n",
       "      <th>1018</th>\n",
       "      <td>Lufthansa</td>\n",
       "      <td>Airbus A330</td>\n",
       "      <td>9.0</td>\n",
       "    </tr>\n",
       "    <tr>\n",
       "      <th>1017</th>\n",
       "      <td>Lufthansa</td>\n",
       "      <td>Airbus A330</td>\n",
       "      <td>2.0</td>\n",
       "    </tr>\n",
       "    <tr>\n",
       "      <th>1016</th>\n",
       "      <td>Lufthansa</td>\n",
       "      <td>Airbus A330</td>\n",
       "      <td>14.0</td>\n",
       "    </tr>\n",
       "    <tr>\n",
       "      <th>1015</th>\n",
       "      <td>Lufthansa</td>\n",
       "      <td>Airbus A330</td>\n",
       "      <td>6.0</td>\n",
       "    </tr>\n",
       "    <tr>\n",
       "      <th>1014</th>\n",
       "      <td>Lufthansa</td>\n",
       "      <td>Airbus A330</td>\n",
       "      <td>9.0</td>\n",
       "    </tr>\n",
       "    <tr>\n",
       "      <th>362</th>\n",
       "      <td>American Airlines</td>\n",
       "      <td>Airbus A330</td>\n",
       "      <td>24.0</td>\n",
       "    </tr>\n",
       "    <tr>\n",
       "      <th>1013</th>\n",
       "      <td>Lufthansa</td>\n",
       "      <td>Airbus A330</td>\n",
       "      <td>19.0</td>\n",
       "    </tr>\n",
       "    <tr>\n",
       "      <th>1023</th>\n",
       "      <td>Lufthansa</td>\n",
       "      <td>Airbus A340</td>\n",
       "      <td>5.0</td>\n",
       "    </tr>\n",
       "    <tr>\n",
       "      <th>1022</th>\n",
       "      <td>Lufthansa</td>\n",
       "      <td>Airbus A340</td>\n",
       "      <td>1.0</td>\n",
       "    </tr>\n",
       "    <tr>\n",
       "      <th>182</th>\n",
       "      <td>Air France/KLM</td>\n",
       "      <td>Airbus A340</td>\n",
       "      <td>11.0</td>\n",
       "    </tr>\n",
       "    <tr>\n",
       "      <th>1021</th>\n",
       "      <td>Lufthansa</td>\n",
       "      <td>Airbus A340</td>\n",
       "      <td>10.0</td>\n",
       "    </tr>\n",
       "    <tr>\n",
       "      <th>1020</th>\n",
       "      <td>Lufthansa</td>\n",
       "      <td>Airbus A340</td>\n",
       "      <td>42.0</td>\n",
       "    </tr>\n",
       "    <tr>\n",
       "      <th>1025</th>\n",
       "      <td>Lufthansa</td>\n",
       "      <td>Airbus A380</td>\n",
       "      <td>14.0</td>\n",
       "    </tr>\n",
       "    <tr>\n",
       "      <th>612</th>\n",
       "      <td>Emirates</td>\n",
       "      <td>Airbus A380</td>\n",
       "      <td>87.0</td>\n",
       "    </tr>\n",
       "    <tr>\n",
       "      <th>185</th>\n",
       "      <td>Air France/KLM</td>\n",
       "      <td>Airbus A380</td>\n",
       "      <td>10.0</td>\n",
       "    </tr>\n",
       "    <tr>\n",
       "      <th>195</th>\n",
       "      <td>Air France/KLM</td>\n",
       "      <td>Boeing 747</td>\n",
       "      <td>1.0</td>\n",
       "    </tr>\n",
       "    <tr>\n",
       "      <th>614</th>\n",
       "      <td>Emirates</td>\n",
       "      <td>Boeing 747</td>\n",
       "      <td>2.0</td>\n",
       "    </tr>\n",
       "    <tr>\n",
       "      <th>1039</th>\n",
       "      <td>Lufthansa</td>\n",
       "      <td>Boeing 747</td>\n",
       "      <td>32.0</td>\n",
       "    </tr>\n",
       "    <tr>\n",
       "      <th>26</th>\n",
       "      <td>Aeroflot</td>\n",
       "      <td>Boeing 747</td>\n",
       "      <td>7.0</td>\n",
       "    </tr>\n",
       "    <tr>\n",
       "      <th>194</th>\n",
       "      <td>Air France/KLM</td>\n",
       "      <td>Boeing 747</td>\n",
       "      <td>20.0</td>\n",
       "    </tr>\n",
       "    <tr>\n",
       "      <th>1043</th>\n",
       "      <td>Lufthansa</td>\n",
       "      <td>Boeing 777</td>\n",
       "      <td>5.0</td>\n",
       "    </tr>\n",
       "    <tr>\n",
       "      <th>29</th>\n",
       "      <td>Aeroflot</td>\n",
       "      <td>Boeing 777</td>\n",
       "      <td>15.0</td>\n",
       "    </tr>\n",
       "    <tr>\n",
       "      <th>30</th>\n",
       "      <td>Aeroflot</td>\n",
       "      <td>Boeing 777</td>\n",
       "      <td>6.0</td>\n",
       "    </tr>\n",
       "    <tr>\n",
       "      <th>1044</th>\n",
       "      <td>Lufthansa</td>\n",
       "      <td>Boeing 777</td>\n",
       "      <td>5.0</td>\n",
       "    </tr>\n",
       "    <tr>\n",
       "      <th>201</th>\n",
       "      <td>Air France/KLM</td>\n",
       "      <td>Boeing 777</td>\n",
       "      <td>70.0</td>\n",
       "    </tr>\n",
       "    <tr>\n",
       "      <th>202</th>\n",
       "      <td>Air France/KLM</td>\n",
       "      <td>Boeing 777</td>\n",
       "      <td>27.0</td>\n",
       "    </tr>\n",
       "    <tr>\n",
       "      <th>370</th>\n",
       "      <td>American Airlines</td>\n",
       "      <td>Boeing 777</td>\n",
       "      <td>67.0</td>\n",
       "    </tr>\n",
       "    <tr>\n",
       "      <th>615</th>\n",
       "      <td>Emirates</td>\n",
       "      <td>Boeing 777</td>\n",
       "      <td>159.0</td>\n",
       "    </tr>\n",
       "    <tr>\n",
       "      <th>1045</th>\n",
       "      <td>Lufthansa</td>\n",
       "      <td>Boeing 777</td>\n",
       "      <td>6.0</td>\n",
       "    </tr>\n",
       "    <tr>\n",
       "      <th>203</th>\n",
       "      <td>Air France/KLM</td>\n",
       "      <td>Boeing 787 Dreamliner</td>\n",
       "      <td>1.0</td>\n",
       "    </tr>\n",
       "    <tr>\n",
       "      <th>204</th>\n",
       "      <td>Air France/KLM</td>\n",
       "      <td>Boeing 787 Dreamliner</td>\n",
       "      <td>8.0</td>\n",
       "    </tr>\n",
       "    <tr>\n",
       "      <th>371</th>\n",
       "      <td>American Airlines</td>\n",
       "      <td>Boeing 787 Dreamliner</td>\n",
       "      <td>20.0</td>\n",
       "    </tr>\n",
       "  </tbody>\n",
       "</table>\n",
       "</div>"
      ],
      "text/plain": [
       "         Parent Airline          Aircraft Type  Current\n",
       "17             Aeroflot            Airbus A330     22.0\n",
       "180      Air France/KLM            Airbus A330     15.0\n",
       "181      Air France/KLM            Airbus A330     13.0\n",
       "1018          Lufthansa            Airbus A330      9.0\n",
       "1017          Lufthansa            Airbus A330      2.0\n",
       "1016          Lufthansa            Airbus A330     14.0\n",
       "1015          Lufthansa            Airbus A330      6.0\n",
       "1014          Lufthansa            Airbus A330      9.0\n",
       "362   American Airlines            Airbus A330     24.0\n",
       "1013          Lufthansa            Airbus A330     19.0\n",
       "1023          Lufthansa            Airbus A340      5.0\n",
       "1022          Lufthansa            Airbus A340      1.0\n",
       "182      Air France/KLM            Airbus A340     11.0\n",
       "1021          Lufthansa            Airbus A340     10.0\n",
       "1020          Lufthansa            Airbus A340     42.0\n",
       "1025          Lufthansa            Airbus A380     14.0\n",
       "612            Emirates            Airbus A380     87.0\n",
       "185      Air France/KLM            Airbus A380     10.0\n",
       "195      Air France/KLM             Boeing 747      1.0\n",
       "614            Emirates             Boeing 747      2.0\n",
       "1039          Lufthansa             Boeing 747     32.0\n",
       "26             Aeroflot             Boeing 747      7.0\n",
       "194      Air France/KLM             Boeing 747     20.0\n",
       "1043          Lufthansa             Boeing 777      5.0\n",
       "29             Aeroflot             Boeing 777     15.0\n",
       "30             Aeroflot             Boeing 777      6.0\n",
       "1044          Lufthansa             Boeing 777      5.0\n",
       "201      Air France/KLM             Boeing 777     70.0\n",
       "202      Air France/KLM             Boeing 777     27.0\n",
       "370   American Airlines             Boeing 777     67.0\n",
       "615            Emirates             Boeing 777    159.0\n",
       "1045          Lufthansa             Boeing 777      6.0\n",
       "203      Air France/KLM  Boeing 787 Dreamliner      1.0\n",
       "204      Air France/KLM  Boeing 787 Dreamliner      8.0\n",
       "371   American Airlines  Boeing 787 Dreamliner     20.0"
      ]
     },
     "execution_count": 525,
     "metadata": {},
     "output_type": "execute_result"
    }
   ],
   "source": [
    "airplanes.sort_values('Aircraft Type')"
   ]
  },
  {
   "cell_type": "code",
   "execution_count": 544,
   "metadata": {},
   "outputs": [],
   "source": [
    "airplanes = airplanes.groupby(by=['Parent Airline', 'Aircraft Type']).sum()"
   ]
  },
  {
   "cell_type": "code",
   "execution_count": 553,
   "metadata": {},
   "outputs": [],
   "source": [
    "airplanes = airplanes.reset_index()"
   ]
  },
  {
   "cell_type": "code",
   "execution_count": 584,
   "metadata": {},
   "outputs": [
    {
     "data": {
      "text/plain": [
       "<seaborn.axisgrid.FacetGrid at 0x20f0d9ae518>"
      ]
     },
     "execution_count": 584,
     "metadata": {},
     "output_type": "execute_result"
    },
    {
     "data": {
      "image/png": "[encoded data removed]",
      "text/plain": [
       "<matplotlib.figure.Figure at 0x20f0d9a3dd8>"
      ]
     },
     "metadata": {},
     "output_type": "display_data"
    }
   ],
   "source": [
    "sns.lmplot(x='Parent Airline', y='Current', hue='Aircraft Type', data=airplanes, fit_reg=False, size=6)"
   ]
  },
  {
   "cell_type": "code",
   "execution_count": 629,
   "metadata": {},
   "outputs": [
    {
     "data": {
      "image/png": "[encoded data removed]",
      "text/plain": [
       "<matplotlib.figure.Figure at 0x20f165b8ba8>"
      ]
     },
     "metadata": {},
     "output_type": "display_data"
    }
   ],
   "source": [
    "g = sns.FacetGrid(airplanes, row='Parent Airline' , col=\"Aircraft Type\", hue='Aircraft Type', margin_titles=True)\n",
    "g = g.map(plt.bar, \"Aircraft Type\", \"Current\")\n",
    "\n",
    "# Facit Grid plot to display data abour Airline fleet in details. Columns - Aircraft Type, Rows - Airline"
   ]
  },
  {
   "cell_type": "code",
   "execution_count": 628,
   "metadata": {},
   "outputs": [
    {
     "data": {
      "text/plain": [
       "<matplotlib.legend.Legend at 0x20f16278208>"
      ]
     },
     "execution_count": 628,
     "metadata": {},
     "output_type": "execute_result"
    },
    {
     "data": {
      "image/png": "[encoded data removed]",
      "text/plain": [
       "<matplotlib.figure.Figure at 0x20f17e46320>"
      ]
     },
     "metadata": {},
     "output_type": "display_data"
    }
   ],
   "source": [
    "plt.figure(figsize=(10,6))\n",
    "sns.barplot(data=airplanes, x='Parent Airline',y='Current', hue='Aircraft Type')\n",
    "plt.legend(bbox_to_anchor=(1, 1.0))\n",
    "\n",
    "# ALternative barplot graph to make it easier to compare the fleets of different Airlines."
   ]
  }
 ],
 "metadata": {
  "kernelspec": {
   "display_name": "Python 3",
   "language": "python",
   "name": "python3"
  },
  "language_info": {
   "codemirror_mode": {
    "name": "ipython",
    "version": 3
   },
   "file_extension": ".py",
   "mimetype": "text/x-python",
   "name": "python",
   "nbconvert_exporter": "python",
   "pygments_lexer": "ipython3",
   "version": "3.6.3"
  }
 },
 "nbformat": 4,
 "nbformat_minor": 2
}
